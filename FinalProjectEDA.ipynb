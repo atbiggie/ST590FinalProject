{
 "cells": [
  {
   "cell_type": "markdown",
   "metadata": {},
   "source": [
    "# Data Cleaning & Exploration\n"
   ]
  },
  {
   "cell_type": "markdown",
   "metadata": {},
   "source": []
  },
  {
   "cell_type": "markdown",
   "metadata": {},
   "source": [
    "### 1. The Machine Learning Process"
   ]
  },
  {
   "cell_type": "markdown",
   "metadata": {},
   "source": [
    "### 2. Introduction to Matplotlib and Seaborn"
   ]
  },
  {
   "cell_type": "markdown",
   "metadata": {},
   "source": [
    "### 3. Correcting Categorical Features"
   ]
  },
  {
   "cell_type": "markdown",
   "metadata": {},
   "source": []
  },
  {
   "cell_type": "code",
   "execution_count": 1,
   "metadata": {},
   "outputs": [],
   "source": [
    "import os\n",
    "import sys\n",
    "os.environ['PYSPARK_PYTHON'] = sys.executable\n",
    "os.environ['PYSPArK_DRIVeR_PYTHON'] = sys.executable"
   ]
  },
  {
   "cell_type": "code",
   "execution_count": 10,
   "metadata": {
    "tags": []
   },
   "outputs": [
    {
     "name": "stdout",
     "output_type": "stream",
     "text": [
      "398 107\n"
     ]
    }
   ],
   "source": [
    "# Import appropriate modules for starting spark session, using pandas on spark, and accessing math functions\n",
    "import pandas as pd\n",
    "from pyspark.sql import SparkSession\n",
    "import numpy as np\n",
    "import pyspark.pandas as ps\n",
    "spark = SparkSession.builder.master('local[*]').appName('my-app').getOrCreate()\n",
    "\n",
    "# Read in S&P 500 data set using pandas\n",
    "financials = pd.read_csv(\"financials.csv\") \n",
    "findata = spark.createDataFrame(financials) #convert to spark data frame\n",
    "\n",
    "# Create training and test set with 80%/20% split, returning #obs in each set\n",
    "# We will use THESE sets during modeling\n",
    "train, test = findata.randomSplit([0.8, 0.2], seed = 3)\n",
    "print(train.count(), test.count())"
   ]
  },
  {
   "cell_type": "code",
   "execution_count": 8,
   "metadata": {
    "tags": []
   },
   "outputs": [
    {
     "data": {
      "text/plain": [
       "0                    Health Care\n",
       "1                         Energy\n",
       "2         Information Technology\n",
       "3     Telecommunication Services\n",
       "4                    Real Estate\n",
       "5                      Materials\n",
       "6         Consumer Discretionary\n",
       "7                      Utilities\n",
       "8               Consumer Staples\n",
       "9                    Industrials\n",
       "10                    Financials\n",
       "Name: Sector, dtype: object"
      ]
     },
     "execution_count": 8,
     "metadata": {},
     "output_type": "execute_result"
    }
   ],
   "source": [
    "# Convert training set above to pandas-on-spark data set for easier EDA\n",
    "fintrain = train.to_pandas_on_spark()\n",
    "\n",
    "# Return unique values of Sector variable\n",
    "fintrain.Sector.unique()"
   ]
  },
  {
   "cell_type": "markdown",
   "metadata": {},
   "source": []
  },
  {
   "cell_type": "code",
   "execution_count": 9,
   "metadata": {},
   "outputs": [
    {
     "data": {
      "text/html": [
       "<div>\n",
       "<style scoped>\n",
       "    .dataframe tbody tr th:only-of-type {\n",
       "        vertical-align: middle;\n",
       "    }\n",
       "\n",
       "    .dataframe tbody tr th {\n",
       "        vertical-align: top;\n",
       "    }\n",
       "\n",
       "    .dataframe thead th {\n",
       "        text-align: right;\n",
       "    }\n",
       "</style>\n",
       "<table border=\"1\" class=\"dataframe\">\n",
       "  <thead>\n",
       "    <tr style=\"text-align: right;\">\n",
       "      <th></th>\n",
       "      <th>Price</th>\n",
       "      <th>Price/Earnings</th>\n",
       "      <th>Dividend Yield</th>\n",
       "      <th>Earnings/Share</th>\n",
       "      <th>52 Week Low</th>\n",
       "      <th>52 Week High</th>\n",
       "      <th>Market Cap</th>\n",
       "      <th>EBITDA</th>\n",
       "      <th>Price/Sales</th>\n",
       "      <th>Price/Book</th>\n",
       "    </tr>\n",
       "  </thead>\n",
       "  <tbody>\n",
       "    <tr>\n",
       "      <th>count</th>\n",
       "      <td>398.000000</td>\n",
       "      <td>396.000000</td>\n",
       "      <td>398.000000</td>\n",
       "      <td>398.000000</td>\n",
       "      <td>398.000000</td>\n",
       "      <td>398.000000</td>\n",
       "      <td>3.980000e+02</td>\n",
       "      <td>3.980000e+02</td>\n",
       "      <td>398.000000</td>\n",
       "      <td>391.000000</td>\n",
       "    </tr>\n",
       "    <tr>\n",
       "      <th>mean</th>\n",
       "      <td>102.410754</td>\n",
       "      <td>24.102955</td>\n",
       "      <td>1.842285</td>\n",
       "      <td>3.611382</td>\n",
       "      <td>120.914205</td>\n",
       "      <td>82.683013</td>\n",
       "      <td>4.665611e+10</td>\n",
       "      <td>3.516603e+09</td>\n",
       "      <td>3.906511</td>\n",
       "      <td>11.616547</td>\n",
       "    </tr>\n",
       "    <tr>\n",
       "      <th>std</th>\n",
       "      <td>126.451627</td>\n",
       "      <td>32.160682</td>\n",
       "      <td>1.544059</td>\n",
       "      <td>5.604250</td>\n",
       "      <td>147.115407</td>\n",
       "      <td>104.402618</td>\n",
       "      <td>8.279151e+10</td>\n",
       "      <td>6.894029e+09</td>\n",
       "      <td>3.443362</td>\n",
       "      <td>69.944221</td>\n",
       "    </tr>\n",
       "    <tr>\n",
       "      <th>min</th>\n",
       "      <td>2.820000</td>\n",
       "      <td>-251.530000</td>\n",
       "      <td>0.000000</td>\n",
       "      <td>-28.010000</td>\n",
       "      <td>6.590000</td>\n",
       "      <td>2.800000</td>\n",
       "      <td>2.626102e+09</td>\n",
       "      <td>-5.067000e+09</td>\n",
       "      <td>0.173970</td>\n",
       "      <td>0.510000</td>\n",
       "    </tr>\n",
       "    <tr>\n",
       "      <th>25%</th>\n",
       "      <td>46.250000</td>\n",
       "      <td>15.390000</td>\n",
       "      <td>0.755124</td>\n",
       "      <td>1.490000</td>\n",
       "      <td>56.580000</td>\n",
       "      <td>37.820000</td>\n",
       "      <td>1.246666e+10</td>\n",
       "      <td>7.367980e+08</td>\n",
       "      <td>1.614736</td>\n",
       "      <td>2.080000</td>\n",
       "    </tr>\n",
       "    <tr>\n",
       "      <th>50%</th>\n",
       "      <td>74.510000</td>\n",
       "      <td>19.710000</td>\n",
       "      <td>1.667825</td>\n",
       "      <td>2.930000</td>\n",
       "      <td>88.000000</td>\n",
       "      <td>63.410000</td>\n",
       "      <td>2.103272e+10</td>\n",
       "      <td>1.561000e+09</td>\n",
       "      <td>2.839671</td>\n",
       "      <td>3.490000</td>\n",
       "    </tr>\n",
       "    <tr>\n",
       "      <th>75%</th>\n",
       "      <td>116.540000</td>\n",
       "      <td>25.900000</td>\n",
       "      <td>2.669978</td>\n",
       "      <td>5.140000</td>\n",
       "      <td>139.240000</td>\n",
       "      <td>97.880000</td>\n",
       "      <td>4.402709e+10</td>\n",
       "      <td>3.459800e+09</td>\n",
       "      <td>4.703259</td>\n",
       "      <td>6.010000</td>\n",
       "    </tr>\n",
       "    <tr>\n",
       "      <th>max</th>\n",
       "      <td>1806.060000</td>\n",
       "      <td>305.560000</td>\n",
       "      <td>12.661196</td>\n",
       "      <td>44.090000</td>\n",
       "      <td>2067.990000</td>\n",
       "      <td>1589.000000</td>\n",
       "      <td>8.095080e+11</td>\n",
       "      <td>7.938600e+10</td>\n",
       "      <td>20.094294</td>\n",
       "      <td>1318.700000</td>\n",
       "    </tr>\n",
       "  </tbody>\n",
       "</table>\n",
       "</div>"
      ],
      "text/plain": [
       "             Price  Price/Earnings  Dividend Yield  Earnings/Share  52 Week Low  52 Week High    Market Cap        EBITDA  Price/Sales   Price/Book\n",
       "count   398.000000      396.000000      398.000000      398.000000   398.000000    398.000000  3.980000e+02  3.980000e+02   398.000000   391.000000\n",
       "mean    102.410754       24.102955        1.842285        3.611382   120.914205     82.683013  4.665611e+10  3.516603e+09     3.906511    11.616547\n",
       "std     126.451627       32.160682        1.544059        5.604250   147.115407    104.402618  8.279151e+10  6.894029e+09     3.443362    69.944221\n",
       "min       2.820000     -251.530000        0.000000      -28.010000     6.590000      2.800000  2.626102e+09 -5.067000e+09     0.173970     0.510000\n",
       "25%      46.250000       15.390000        0.755124        1.490000    56.580000     37.820000  1.246666e+10  7.367980e+08     1.614736     2.080000\n",
       "50%      74.510000       19.710000        1.667825        2.930000    88.000000     63.410000  2.103272e+10  1.561000e+09     2.839671     3.490000\n",
       "75%     116.540000       25.900000        2.669978        5.140000   139.240000     97.880000  4.402709e+10  3.459800e+09     4.703259     6.010000\n",
       "max    1806.060000      305.560000       12.661196       44.090000  2067.990000   1589.000000  8.095080e+11  7.938600e+10    20.094294  1318.700000"
      ]
     },
     "execution_count": 9,
     "metadata": {},
     "output_type": "execute_result"
    }
   ],
   "source": [
    "# Describe numeric variables in data set\n",
    "fintrain.describe()"
   ]
  },
  {
   "cell_type": "code",
   "execution_count": 37,
   "metadata": {
    "tags": []
   },
   "outputs": [
    {
     "data": {
      "text/html": [
       "<div>\n",
       "<style scoped>\n",
       "    .dataframe tbody tr th:only-of-type {\n",
       "        vertical-align: middle;\n",
       "    }\n",
       "\n",
       "    .dataframe tbody tr th {\n",
       "        vertical-align: top;\n",
       "    }\n",
       "\n",
       "    .dataframe thead th {\n",
       "        text-align: right;\n",
       "    }\n",
       "</style>\n",
       "<table border=\"1\" class=\"dataframe\">\n",
       "  <thead>\n",
       "    <tr style=\"text-align: right;\">\n",
       "      <th></th>\n",
       "      <th>Price</th>\n",
       "      <th>Price/Earnings</th>\n",
       "      <th>Earnings/Share</th>\n",
       "      <th>EBITDA</th>\n",
       "    </tr>\n",
       "    <tr>\n",
       "      <th>Sector</th>\n",
       "      <th></th>\n",
       "      <th></th>\n",
       "      <th></th>\n",
       "      <th></th>\n",
       "    </tr>\n",
       "  </thead>\n",
       "  <tbody>\n",
       "    <tr>\n",
       "      <th>Health Care</th>\n",
       "      <td>135.145532</td>\n",
       "      <td>NaN</td>\n",
       "      <td>3.501277</td>\n",
       "      <td>3.393920e+09</td>\n",
       "    </tr>\n",
       "    <tr>\n",
       "      <th>Energy</th>\n",
       "      <td>53.751600</td>\n",
       "      <td>42.552000</td>\n",
       "      <td>-1.996000</td>\n",
       "      <td>4.768612e+09</td>\n",
       "    </tr>\n",
       "    <tr>\n",
       "      <th>Information Technology</th>\n",
       "      <td>109.265200</td>\n",
       "      <td>31.963000</td>\n",
       "      <td>2.768200</td>\n",
       "      <td>6.198590e+09</td>\n",
       "    </tr>\n",
       "    <tr>\n",
       "      <th>Telecommunication Services</th>\n",
       "      <td>25.885000</td>\n",
       "      <td>10.245000</td>\n",
       "      <td>2.960000</td>\n",
       "      <td>2.761500e+10</td>\n",
       "    </tr>\n",
       "    <tr>\n",
       "      <th>Real Estate</th>\n",
       "      <td>92.233704</td>\n",
       "      <td>16.758889</td>\n",
       "      <td>2.624074</td>\n",
       "      <td>1.389846e+09</td>\n",
       "    </tr>\n",
       "    <tr>\n",
       "      <th>Materials</th>\n",
       "      <td>109.136667</td>\n",
       "      <td>24.624762</td>\n",
       "      <td>5.023810</td>\n",
       "      <td>2.183784e+09</td>\n",
       "    </tr>\n",
       "    <tr>\n",
       "      <th>Consumer Discretionary</th>\n",
       "      <td>118.355147</td>\n",
       "      <td>NaN</td>\n",
       "      <td>5.146765</td>\n",
       "      <td>3.578287e+09</td>\n",
       "    </tr>\n",
       "    <tr>\n",
       "      <th>Utilities</th>\n",
       "      <td>58.751429</td>\n",
       "      <td>16.409524</td>\n",
       "      <td>1.968095</td>\n",
       "      <td>3.659682e+09</td>\n",
       "    </tr>\n",
       "    <tr>\n",
       "      <th>Consumer Staples</th>\n",
       "      <td>83.117931</td>\n",
       "      <td>22.173793</td>\n",
       "      <td>3.793448</td>\n",
       "      <td>5.064501e+09</td>\n",
       "    </tr>\n",
       "    <tr>\n",
       "      <th>Industrials</th>\n",
       "      <td>114.972241</td>\n",
       "      <td>21.335172</td>\n",
       "      <td>5.145517</td>\n",
       "      <td>3.045069e+09</td>\n",
       "    </tr>\n",
       "    <tr>\n",
       "      <th>Financials</th>\n",
       "      <td>88.118000</td>\n",
       "      <td>17.962600</td>\n",
       "      <td>4.044600</td>\n",
       "      <td>5.734447e+08</td>\n",
       "    </tr>\n",
       "  </tbody>\n",
       "</table>\n",
       "</div>"
      ],
      "text/plain": [
       "                                 Price  Price/Earnings  Earnings/Share        EBITDA\n",
       "Sector                                                                              \n",
       "Health Care                 135.145532             NaN        3.501277  3.393920e+09\n",
       "Energy                       53.751600       42.552000       -1.996000  4.768612e+09\n",
       "Information Technology      109.265200       31.963000        2.768200  6.198590e+09\n",
       "Telecommunication Services   25.885000       10.245000        2.960000  2.761500e+10\n",
       "Real Estate                  92.233704       16.758889        2.624074  1.389846e+09\n",
       "Materials                   109.136667       24.624762        5.023810  2.183784e+09\n",
       "Consumer Discretionary      118.355147             NaN        5.146765  3.578287e+09\n",
       "Utilities                    58.751429       16.409524        1.968095  3.659682e+09\n",
       "Consumer Staples             83.117931       22.173793        3.793448  5.064501e+09\n",
       "Industrials                 114.972241       21.335172        5.145517  3.045069e+09\n",
       "Financials                   88.118000       17.962600        4.044600  5.734447e+08"
      ]
     },
     "execution_count": 37,
     "metadata": {},
     "output_type": "execute_result"
    }
   ],
   "source": [
    "# View mean Price, Price/Earnings, Earnings/Share, and EBITDA for each sector\n",
    "fintrain.groupby([\"Sector\"])[[\"Price\",\"Price/Earnings\", \"Earnings/Share\", \"EBITDA\"]].agg(\"mean\")"
   ]
  },
  {
   "cell_type": "markdown",
   "metadata": {},
   "source": []
  },
  {
   "cell_type": "code",
   "execution_count": 47,
   "metadata": {},
   "outputs": [
    {
     "data": {
      "text/plain": [
       "0.01     11.95\n",
       "0.25     46.25\n",
       "0.50     74.51\n",
       "0.75    116.54\n",
       "0.99    601.00\n",
       "Name: Price, dtype: float64"
      ]
     },
     "execution_count": 47,
     "metadata": {},
     "output_type": "execute_result"
    }
   ],
   "source": [
    "# Find quantiles of Price\n",
    "fintrain.Price.quantile([0.01, 0.25, 0.5, 0.75, 0.99])"
   ]
  },
  {
   "cell_type": "code",
   "execution_count": 59,
   "metadata": {},
   "outputs": [
    {
     "data": {
      "text/html": [
       "<div>\n",
       "<style scoped>\n",
       "    .dataframe tbody tr th:only-of-type {\n",
       "        vertical-align: middle;\n",
       "    }\n",
       "\n",
       "    .dataframe tbody tr th {\n",
       "        vertical-align: top;\n",
       "    }\n",
       "\n",
       "    .dataframe thead th {\n",
       "        text-align: right;\n",
       "    }\n",
       "</style>\n",
       "<table border=\"1\" class=\"dataframe\">\n",
       "  <thead>\n",
       "    <tr style=\"text-align: right;\">\n",
       "      <th></th>\n",
       "      <th>Symbol</th>\n",
       "      <th>Name</th>\n",
       "      <th>Sector</th>\n",
       "      <th>Price</th>\n",
       "      <th>Price/Earnings</th>\n",
       "      <th>Dividend Yield</th>\n",
       "      <th>Earnings/Share</th>\n",
       "      <th>52 Week Low</th>\n",
       "      <th>52 Week High</th>\n",
       "      <th>Market Cap</th>\n",
       "      <th>EBITDA</th>\n",
       "      <th>Price/Sales</th>\n",
       "      <th>Price/Book</th>\n",
       "      <th>SEC Filings</th>\n",
       "      <th>Price_cat</th>\n",
       "    </tr>\n",
       "  </thead>\n",
       "  <tbody>\n",
       "    <tr>\n",
       "      <th>0</th>\n",
       "      <td>A</td>\n",
       "      <td>Agilent Technologies Inc</td>\n",
       "      <td>Health Care</td>\n",
       "      <td>65.05</td>\n",
       "      <td>27.45</td>\n",
       "      <td>0.875698</td>\n",
       "      <td>2.10</td>\n",
       "      <td>75.00</td>\n",
       "      <td>49.23</td>\n",
       "      <td>2.198461e+10</td>\n",
       "      <td>1.094000e+09</td>\n",
       "      <td>6.493563</td>\n",
       "      <td>4.56</td>\n",
       "      <td>http://www.sec.gov/cgi-bin/browse-edgar?action...</td>\n",
       "      <td>Mid</td>\n",
       "    </tr>\n",
       "    <tr>\n",
       "      <th>1</th>\n",
       "      <td>AAL</td>\n",
       "      <td>American Airlines Group</td>\n",
       "      <td>Industrials</td>\n",
       "      <td>48.60</td>\n",
       "      <td>9.92</td>\n",
       "      <td>0.778210</td>\n",
       "      <td>3.91</td>\n",
       "      <td>59.08</td>\n",
       "      <td>39.21</td>\n",
       "      <td>2.459485e+10</td>\n",
       "      <td>5.761000e+09</td>\n",
       "      <td>0.580226</td>\n",
       "      <td>6.03</td>\n",
       "      <td>http://www.sec.gov/cgi-bin/browse-edgar?action...</td>\n",
       "      <td>Mid</td>\n",
       "    </tr>\n",
       "    <tr>\n",
       "      <th>2</th>\n",
       "      <td>AAPL</td>\n",
       "      <td>Apple Inc.</td>\n",
       "      <td>Information Technology</td>\n",
       "      <td>155.15</td>\n",
       "      <td>16.86</td>\n",
       "      <td>1.579541</td>\n",
       "      <td>9.20</td>\n",
       "      <td>180.10</td>\n",
       "      <td>131.12</td>\n",
       "      <td>8.095080e+11</td>\n",
       "      <td>7.938600e+10</td>\n",
       "      <td>3.458609</td>\n",
       "      <td>5.66</td>\n",
       "      <td>http://www.sec.gov/cgi-bin/browse-edgar?action...</td>\n",
       "      <td>High</td>\n",
       "    </tr>\n",
       "    <tr>\n",
       "      <th>3</th>\n",
       "      <td>ABBV</td>\n",
       "      <td>AbbVie Inc.</td>\n",
       "      <td>Health Care</td>\n",
       "      <td>108.48</td>\n",
       "      <td>19.41</td>\n",
       "      <td>2.499560</td>\n",
       "      <td>3.29</td>\n",
       "      <td>125.86</td>\n",
       "      <td>60.05</td>\n",
       "      <td>1.813860e+11</td>\n",
       "      <td>1.031000e+10</td>\n",
       "      <td>6.291571</td>\n",
       "      <td>26.14</td>\n",
       "      <td>http://www.sec.gov/cgi-bin/browse-edgar?action...</td>\n",
       "      <td>Mid</td>\n",
       "    </tr>\n",
       "    <tr>\n",
       "      <th>4</th>\n",
       "      <td>ABC</td>\n",
       "      <td>AmerisourceBergen Corp</td>\n",
       "      <td>Health Care</td>\n",
       "      <td>91.55</td>\n",
       "      <td>15.54</td>\n",
       "      <td>1.613246</td>\n",
       "      <td>1.64</td>\n",
       "      <td>106.27</td>\n",
       "      <td>71.90</td>\n",
       "      <td>2.058770e+10</td>\n",
       "      <td>9.918840e+08</td>\n",
       "      <td>0.173970</td>\n",
       "      <td>9.73</td>\n",
       "      <td>http://www.sec.gov/cgi-bin/browse-edgar?action...</td>\n",
       "      <td>Mid</td>\n",
       "    </tr>\n",
       "  </tbody>\n",
       "</table>\n",
       "</div>"
      ],
      "text/plain": [
       "  Symbol                      Name                  Sector   Price  Price/Earnings  Dividend Yield  Earnings/Share  52 Week Low  52 Week High    Market Cap        EBITDA  Price/Sales  Price/Book                                                         SEC Filings Price_cat\n",
       "0      A  Agilent Technologies Inc             Health Care   65.05           27.45        0.875698            2.10        75.00         49.23  2.198461e+10  1.094000e+09     6.493563        4.56     http://www.sec.gov/cgi-bin/browse-edgar?action=getcompany&CIK=A       Mid\n",
       "1    AAL   American Airlines Group             Industrials   48.60            9.92        0.778210            3.91        59.08         39.21  2.459485e+10  5.761000e+09     0.580226        6.03   http://www.sec.gov/cgi-bin/browse-edgar?action=getcompany&CIK=AAL       Mid\n",
       "2   AAPL                Apple Inc.  Information Technology  155.15           16.86        1.579541            9.20       180.10        131.12  8.095080e+11  7.938600e+10     3.458609        5.66  http://www.sec.gov/cgi-bin/browse-edgar?action=getcompany&CIK=AAPL      High\n",
       "3   ABBV               AbbVie Inc.             Health Care  108.48           19.41        2.499560            3.29       125.86         60.05  1.813860e+11  1.031000e+10     6.291571       26.14  http://www.sec.gov/cgi-bin/browse-edgar?action=getcompany&CIK=ABBV       Mid\n",
       "4    ABC    AmerisourceBergen Corp             Health Care   91.55           15.54        1.613246            1.64       106.27         71.90  2.058770e+10  9.918840e+08     0.173970        9.73   http://www.sec.gov/cgi-bin/browse-edgar?action=getcompany&CIK=ABC       Mid"
      ]
     },
     "execution_count": 59,
     "metadata": {},
     "output_type": "execute_result"
    }
   ],
   "source": [
    "# Create categorical version of Price variable with levels \"Low\" \"Medium\" and \"High\" based on quantiles above\n",
    "\n",
    "from pyspark.sql.functions import udf\n",
    "from pyspark.sql.types import *\n",
    "from pyspark.sql.functions import *\n",
    "\n",
    "def categorizer(price):\n",
    "    if price < 46.25:\n",
    "        return \"Low\"\n",
    "    elif price < 116.54:\n",
    "        return \"Mid\"\n",
    "    else:\n",
    "        return \"High\"\n",
    "    \n",
    "pricecat_udf = udf(categorizer, StringType())\n",
    "fintrain = train.withColumn(\"Price_cat\", pricecat_udf(\"Price\")).to_pandas_on_spark()\n",
    "fintrain.head()"
   ]
  },
  {
   "cell_type": "code",
   "execution_count": 66,
   "metadata": {
    "tags": []
   },
   "outputs": [
    {
     "data": {
      "text/html": [
       "<div>\n",
       "<style scoped>\n",
       "    .dataframe tbody tr th:only-of-type {\n",
       "        vertical-align: middle;\n",
       "    }\n",
       "\n",
       "    .dataframe tbody tr th {\n",
       "        vertical-align: top;\n",
       "    }\n",
       "\n",
       "    .dataframe thead th {\n",
       "        text-align: right;\n",
       "    }\n",
       "</style>\n",
       "<table border=\"1\" class=\"dataframe\">\n",
       "  <thead>\n",
       "    <tr style=\"text-align: right;\">\n",
       "      <th>Price_cat</th>\n",
       "      <th>High</th>\n",
       "      <th>Low</th>\n",
       "      <th>Mid</th>\n",
       "    </tr>\n",
       "    <tr>\n",
       "      <th>Sector</th>\n",
       "      <th></th>\n",
       "      <th></th>\n",
       "      <th></th>\n",
       "    </tr>\n",
       "  </thead>\n",
       "  <tbody>\n",
       "    <tr>\n",
       "      <th>Health Care</th>\n",
       "      <td>2.691627e+09</td>\n",
       "      <td>5.465789e+09</td>\n",
       "      <td>3.457105e+09</td>\n",
       "    </tr>\n",
       "    <tr>\n",
       "      <th>Energy</th>\n",
       "      <td>2.151190e+09</td>\n",
       "      <td>1.280093e+09</td>\n",
       "      <td>9.129354e+09</td>\n",
       "    </tr>\n",
       "    <tr>\n",
       "      <th>Information Technology</th>\n",
       "      <td>9.592985e+09</td>\n",
       "      <td>6.086267e+09</td>\n",
       "      <td>4.043457e+09</td>\n",
       "    </tr>\n",
       "    <tr>\n",
       "      <th>Telecommunication Services</th>\n",
       "      <td>NaN</td>\n",
       "      <td>2.761500e+10</td>\n",
       "      <td>NaN</td>\n",
       "    </tr>\n",
       "    <tr>\n",
       "      <th>Real Estate</th>\n",
       "      <td>2.397553e+09</td>\n",
       "      <td>1.137779e+09</td>\n",
       "      <td>1.075044e+09</td>\n",
       "    </tr>\n",
       "    <tr>\n",
       "      <th>Materials</th>\n",
       "      <td>2.214919e+09</td>\n",
       "      <td>1.240200e+09</td>\n",
       "      <td>2.539423e+09</td>\n",
       "    </tr>\n",
       "    <tr>\n",
       "      <th>Consumer Discretionary</th>\n",
       "      <td>4.227208e+09</td>\n",
       "      <td>4.363204e+09</td>\n",
       "      <td>2.656591e+09</td>\n",
       "    </tr>\n",
       "    <tr>\n",
       "      <th>Utilities</th>\n",
       "      <td>9.018000e+09</td>\n",
       "      <td>2.696450e+09</td>\n",
       "      <td>3.855309e+09</td>\n",
       "    </tr>\n",
       "    <tr>\n",
       "      <th>Consumer Staples</th>\n",
       "      <td>2.567267e+09</td>\n",
       "      <td>2.460272e+09</td>\n",
       "      <td>7.140314e+09</td>\n",
       "    </tr>\n",
       "    <tr>\n",
       "      <th>Industrials</th>\n",
       "      <td>4.594031e+09</td>\n",
       "      <td>9.224814e+08</td>\n",
       "      <td>2.456066e+09</td>\n",
       "    </tr>\n",
       "    <tr>\n",
       "      <th>Financials</th>\n",
       "      <td>1.735420e+09</td>\n",
       "      <td>4.912636e+08</td>\n",
       "      <td>2.135133e+08</td>\n",
       "    </tr>\n",
       "  </tbody>\n",
       "</table>\n",
       "</div>"
      ],
      "text/plain": [
       "Price_cat                           High           Low           Mid\n",
       "Sector                                                              \n",
       "Health Care                 2.691627e+09  5.465789e+09  3.457105e+09\n",
       "Energy                      2.151190e+09  1.280093e+09  9.129354e+09\n",
       "Information Technology      9.592985e+09  6.086267e+09  4.043457e+09\n",
       "Telecommunication Services           NaN  2.761500e+10           NaN\n",
       "Real Estate                 2.397553e+09  1.137779e+09  1.075044e+09\n",
       "Materials                   2.214919e+09  1.240200e+09  2.539423e+09\n",
       "Consumer Discretionary      4.227208e+09  4.363204e+09  2.656591e+09\n",
       "Utilities                   9.018000e+09  2.696450e+09  3.855309e+09\n",
       "Consumer Staples            2.567267e+09  2.460272e+09  7.140314e+09\n",
       "Industrials                 4.594031e+09  9.224814e+08  2.456066e+09\n",
       "Financials                  1.735420e+09  4.912636e+08  2.135133e+08"
      ]
     },
     "execution_count": 66,
     "metadata": {},
     "output_type": "execute_result"
    }
   ],
   "source": [
    "# create pivot table returning mean EBITDA for each Sector/Price Level\n",
    "\n",
    "fintrain.pivot_table(index = [\"Sector\"], columns = 'Price_cat', values = \"EBITDA\", aggfunc = \"mean\")"
   ]
  },
  {
   "cell_type": "markdown",
   "metadata": {},
   "source": []
  },
  {
   "cell_type": "code",
   "execution_count": 98,
   "metadata": {
    "tags": []
   },
   "outputs": [
    {
     "data": {
      "text/plain": [
       "[<matplotlib.lines.Line2D at 0x1a2a33768c0>]"
      ]
     },
     "execution_count": 98,
     "metadata": {},
     "output_type": "execute_result"
    },
    {
     "data": {
      "image/png": "[encoded data removed]",
      "text/plain": [
       "<Figure size 432x288 with 1 Axes>"
      ]
     },
     "metadata": {
      "needs_background": "light"
     },
     "output_type": "display_data"
    }
   ],
   "source": [
    "# Use matplotlib to plot earnings per share against price\n",
    "\n",
    "import seaborn as sns\n",
    "import matplotlib.pyplot as plt\n",
    "\n",
    "fintrain.Sector = fintrain.Sector.astype('category')\n",
    "\n",
    "plt.scatter(x = fintrain[\"Earnings/Share\"].to_numpy(), y = fintrain[\"Price\"].to_numpy(),\n",
    "           s = 15)\n",
    "plt.xlabel(\"Earnings/Share\")\n",
    "plt.ylabel(\"Price ($)\")\n",
    "plt.title(\"Share Price as a Function of Earnings per Share\")\n",
    "\n",
    "x = fintrain[\"Earnings/Share\"].to_numpy()\n",
    "y = fintrain[\"Price\"].to_numpy()\n",
    "\n",
    "z = np.polyfit(x, y, 2)\n",
    "p = np.poly1d(z)\n",
    "\n",
    "plt.plot(x, p(x), \"y--\")"
   ]
  },
  {
   "cell_type": "markdown",
   "metadata": {},
   "source": [
    "### 4. Outliers & Unwanted Observations"
   ]
  },
  {
   "cell_type": "markdown",
   "metadata": {},
   "source": []
  },
  {
   "cell_type": "code",
   "execution_count": null,
   "metadata": {
    "tags": []
   },
   "outputs": [],
   "source": [
    "# Display the dimensions of the stock_data DataFrame\n",
    "\n"
   ]
  },
  {
   "cell_type": "code",
   "execution_count": null,
   "metadata": {
    "tags": []
   },
   "outputs": [],
   "source": [
    "# Display histograms for all continuous features\n",
    "\n"
   ]
  },
  {
   "cell_type": "markdown",
   "metadata": {},
   "source": []
  },
  {
   "cell_type": "code",
   "execution_count": null,
   "metadata": {
    "tags": []
   },
   "outputs": [],
   "source": []
  },
  {
   "cell_type": "markdown",
   "metadata": {},
   "source": []
  },
  {
   "cell_type": "code",
   "execution_count": null,
   "metadata": {
    "tags": []
   },
   "outputs": [],
   "source": []
  },
  {
   "cell_type": "markdown",
   "metadata": {},
   "source": []
  },
  {
   "cell_type": "code",
   "execution_count": null,
   "metadata": {
    "tags": []
   },
   "outputs": [],
   "source": []
  },
  {
   "cell_type": "markdown",
   "metadata": {},
   "source": []
  },
  {
   "cell_type": "code",
   "execution_count": null,
   "metadata": {
    "tags": []
   },
   "outputs": [],
   "source": []
  },
  {
   "cell_type": "markdown",
   "metadata": {},
   "source": []
  },
  {
   "cell_type": "code",
   "execution_count": null,
   "metadata": {
    "tags": []
   },
   "outputs": [],
   "source": []
  },
  {
   "cell_type": "markdown",
   "metadata": {},
   "source": []
  },
  {
   "cell_type": "code",
   "execution_count": null,
   "metadata": {
    "tags": []
   },
   "outputs": [],
   "source": []
  },
  {
   "cell_type": "markdown",
   "metadata": {},
   "source": []
  },
  {
   "cell_type": "code",
   "execution_count": null,
   "metadata": {
    "tags": []
   },
   "outputs": [],
   "source": [
    "# Display the box distribution of 'Beta' by 'Sector'\n",
    "\n"
   ]
  },
  {
   "cell_type": "code",
   "execution_count": null,
   "metadata": {
    "tags": []
   },
   "outputs": [],
   "source": [
    "# Display the box distribution of 'Return' by 'Sector'\n",
    "\n"
   ]
  }
 ],
 "metadata": {
  "kernelspec": {
   "display_name": "Python 3 (ipykernel)",
   "language": "python",
   "name": "python3"
  },
  "language_info": {
   "codemirror_mode": {
    "name": "ipython",
    "version": 3
   },
   "file_extension": ".py",
   "mimetype": "text/x-python",
   "name": "python",
   "nbconvert_exporter": "python",
   "pygments_lexer": "ipython3",
   "version": "3.10.1"
  }
 },
 "nbformat": 4,
 "nbformat_minor": 4
}
