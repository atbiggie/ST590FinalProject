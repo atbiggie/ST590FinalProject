{
 "cells": [
  {
   "cell_type": "markdown",
   "metadata": {},
   "source": [
    "## ST590 Project3-Group16\n",
    "### Student: Autumn Biggie and YiHua Lin\n"
   ]
  },
  {
   "cell_type": "markdown",
   "metadata": {},
   "source": [
    "## 1. Introduction: \n",
    "\n",
    "The S&P 500 is a capitalization-weighted index of the top 500 publicly traded companies in the United States (top 500 meaning the companies with the largest market cap). The S&P 500 index is a useful index to study because it generally reflects the health of the overall U.S. stock market.\n",
    "\n",
    "We are going to use S&P 500 Financial Dataset to predict price from Kraggle website and to determine the high-quality company"
   ]
  },
  {
   "cell_type": "markdown",
   "metadata": {
    "tags": []
   },
   "source": [
    "## Predictor Introduction( 4 character variables and 10 numeric variables): \n",
    "\n",
    "character variables:\n",
    "\n",
    "**Symbol-** Ticker symbol used to uniquely identify each company on a particular stock market\n",
    "\n",
    "**Name-** Legal name of the company\n",
    "\n",
    "**Sector-** An area of the economy where businesses share a related product or service\n",
    "\n",
    "**SEC Filings-** Helpful documents relating to a company\n",
    "\n",
    "numeric variables:\n",
    "\n",
    "**Price/Earnings(P/E)-** financial indicator equal to the ratio of the market value of a share to the annual earnings per share\n",
    "\n",
    "**Dividend yield-** the ratio of the annual dividend per share to the share price. This value is most often expressed as a percentage.\n",
    "\n",
    "**Earnings/Share(EPS) -** financial indicator equal to the ratio of the company's net profit available for distribution to the average annual number of ordinary shares.\n",
    "\n",
    "**EBITDA-** an analytical indicator equal to the amount of profit before deduction of expenses on payment of interest, taxes, depreciation and amortization.Often used as a proxy for its profitability\n",
    "\n",
    "**Price/Sales(P/S)-** financial indicator equal to the ratio of a company's market capitalization to its annual revenue.\n",
    "\n",
    "**Price/book(P/B)-** financial ratio equal to the ratio of the company's current market capitalization to its book value.\n",
    "\n",
    "**Price-** Price per share of the company\n",
    "\n",
    "**52 week high-** The annual high of a company’s share price\n",
    "\n",
    "**52 week low-** The annual low of a company’s share price\n",
    "        - \n",
    "        \n",
    "**Market Cap-** The market value of a company’s shares (calculated as share price x number of shares)\n"
   ]
  },
  {
   "cell_type": "markdown",
   "metadata": {},
   "source": [
    "## Import appropriate modules for starting spark session, using pandas on spark, and accessing math functions"
   ]
  },
  {
   "cell_type": "code",
   "execution_count": 1,
   "metadata": {},
   "outputs": [
    {
     "name": "stderr",
     "output_type": "stream",
     "text": [
      "WARNING:root:'PYARROW_IGNORE_TIMEZONE' environment variable was not set. It is required to set this environment variable to '1' in both driver and executor sides if you use pyarrow>=2.0.0. pandas-on-Spark will set it for you but it does not work if there is a Spark context already launched.\n"
     ]
    }
   ],
   "source": [
    "import numpy as np\n",
    "import pandas as pd\n",
    "import matplotlib.pyplot as plt\n",
    "import itertools\n",
    "import scipy.stats as stats\n",
    "import sqlite3\n",
    "import pylab as pl\n",
    "import plotly\n",
    "import pyspark.pandas as ps\n",
    "import plotly.graph_objs as go\n",
    "import seaborn as sns\n",
    "import sys\n",
    "import os\n",
    "os.environ['PYSPARK_PYTHON'] = sys.executable\n",
    "os.environ['PYSPARK_DRIVER_PYTHON'] = sys.executable\n",
    "from plotly.offline import init_notebook_mode, iplot\n",
    "from pyspark.sql import SparkSession\n",
    "from pyspark.sql import functions as func\n",
    "from pyspark.sql.functions import isnan, when, count, col\n",
    "spark = SparkSession.builder.getOrCreate()\n",
    "from sklearn.model_selection import train_test_split, GridSearchCV, cross_validate\n",
    "from sklearn.linear_model import LinearRegression\n",
    "from sklearn.tree import DecisionTreeRegressor\n",
    "from sklearn.ensemble import RandomForestRegressor\n",
    "from sklearn.preprocessing import PolynomialFeatures\n",
    "from pyspark.ml.feature import SQLTransformer\n",
    "from pyspark.ml import Pipeline\n",
    "from pyspark.ml.feature import VectorIndexer\n",
    "from pyspark.ml.feature import VectorAssembler\n",
    "from pyspark.ml.evaluation import RegressionEvaluator\n",
    "from pyspark.mllib.regression import LabeledPoint\n",
    "from pyspark.ml.regression import LinearRegression\n",
    "from pyspark.mllib.tree import RandomForest\n",
    "from pyspark.ml.regression import RandomForestRegressor\n",
    "from pyspark.ml.tuning import CrossValidator, ParamGridBuilder\n",
    "from pyspark.ml.evaluation import RegressionEvaluator\n",
    "from pyspark.ml.regression import DecisionTreeRegressor"
   ]
  },
  {
   "cell_type": "markdown",
   "metadata": {},
   "source": [
    "## 2. Supervised Learning and Data Split"
   ]
  },
  {
   "cell_type": "markdown",
   "metadata": {},
   "source": [
    "## My goal is predict short-term volatility for stocks across different sectors"
   ]
  },
  {
   "cell_type": "code",
   "execution_count": 2,
   "metadata": {},
   "outputs": [
    {
     "data": {
      "text/html": [
       "<div>\n",
       "<style scoped>\n",
       "    .dataframe tbody tr th:only-of-type {\n",
       "        vertical-align: middle;\n",
       "    }\n",
       "\n",
       "    .dataframe tbody tr th {\n",
       "        vertical-align: top;\n",
       "    }\n",
       "\n",
       "    .dataframe thead th {\n",
       "        text-align: right;\n",
       "    }\n",
       "</style>\n",
       "<table border=\"1\" class=\"dataframe\">\n",
       "  <thead>\n",
       "    <tr style=\"text-align: right;\">\n",
       "      <th></th>\n",
       "      <th>Symbol</th>\n",
       "      <th>Name</th>\n",
       "      <th>Sector</th>\n",
       "      <th>Price</th>\n",
       "      <th>Price/Earnings</th>\n",
       "      <th>Dividend Yield</th>\n",
       "      <th>Earnings/Share</th>\n",
       "      <th>52 Week Low</th>\n",
       "      <th>52 Week High</th>\n",
       "      <th>Market Cap</th>\n",
       "      <th>EBITDA</th>\n",
       "      <th>Price/Sales</th>\n",
       "      <th>Price/Book</th>\n",
       "      <th>SEC Filings</th>\n",
       "    </tr>\n",
       "  </thead>\n",
       "  <tbody>\n",
       "    <tr>\n",
       "      <th>0</th>\n",
       "      <td>MMM</td>\n",
       "      <td>3M Company</td>\n",
       "      <td>Industrials</td>\n",
       "      <td>222.89</td>\n",
       "      <td>24.31</td>\n",
       "      <td>2.332862</td>\n",
       "      <td>7.92</td>\n",
       "      <td>259.77</td>\n",
       "      <td>175.490</td>\n",
       "      <td>1.387210e+11</td>\n",
       "      <td>9.048000e+09</td>\n",
       "      <td>4.390271</td>\n",
       "      <td>11.34</td>\n",
       "      <td>http://www.sec.gov/cgi-bin/browse-edgar?action...</td>\n",
       "    </tr>\n",
       "    <tr>\n",
       "      <th>1</th>\n",
       "      <td>AOS</td>\n",
       "      <td>A.O. Smith Corp</td>\n",
       "      <td>Industrials</td>\n",
       "      <td>60.24</td>\n",
       "      <td>27.76</td>\n",
       "      <td>1.147959</td>\n",
       "      <td>1.70</td>\n",
       "      <td>68.39</td>\n",
       "      <td>48.925</td>\n",
       "      <td>1.078342e+10</td>\n",
       "      <td>6.010000e+08</td>\n",
       "      <td>3.575483</td>\n",
       "      <td>6.35</td>\n",
       "      <td>http://www.sec.gov/cgi-bin/browse-edgar?action...</td>\n",
       "    </tr>\n",
       "    <tr>\n",
       "      <th>2</th>\n",
       "      <td>ABT</td>\n",
       "      <td>Abbott Laboratories</td>\n",
       "      <td>Health Care</td>\n",
       "      <td>56.27</td>\n",
       "      <td>22.51</td>\n",
       "      <td>1.908982</td>\n",
       "      <td>0.26</td>\n",
       "      <td>64.60</td>\n",
       "      <td>42.280</td>\n",
       "      <td>1.021210e+11</td>\n",
       "      <td>5.744000e+09</td>\n",
       "      <td>3.740480</td>\n",
       "      <td>3.19</td>\n",
       "      <td>http://www.sec.gov/cgi-bin/browse-edgar?action...</td>\n",
       "    </tr>\n",
       "    <tr>\n",
       "      <th>3</th>\n",
       "      <td>ABBV</td>\n",
       "      <td>AbbVie Inc.</td>\n",
       "      <td>Health Care</td>\n",
       "      <td>108.48</td>\n",
       "      <td>19.41</td>\n",
       "      <td>2.499560</td>\n",
       "      <td>3.29</td>\n",
       "      <td>125.86</td>\n",
       "      <td>60.050</td>\n",
       "      <td>1.813860e+11</td>\n",
       "      <td>1.031000e+10</td>\n",
       "      <td>6.291571</td>\n",
       "      <td>26.14</td>\n",
       "      <td>http://www.sec.gov/cgi-bin/browse-edgar?action...</td>\n",
       "    </tr>\n",
       "    <tr>\n",
       "      <th>4</th>\n",
       "      <td>ACN</td>\n",
       "      <td>Accenture plc</td>\n",
       "      <td>Information Technology</td>\n",
       "      <td>150.51</td>\n",
       "      <td>25.47</td>\n",
       "      <td>1.714470</td>\n",
       "      <td>5.44</td>\n",
       "      <td>162.60</td>\n",
       "      <td>114.820</td>\n",
       "      <td>9.876586e+10</td>\n",
       "      <td>5.643228e+09</td>\n",
       "      <td>2.604117</td>\n",
       "      <td>10.62</td>\n",
       "      <td>http://www.sec.gov/cgi-bin/browse-edgar?action...</td>\n",
       "    </tr>\n",
       "  </tbody>\n",
       "</table>\n",
       "</div>"
      ],
      "text/plain": [
       "  Symbol                 Name                  Sector   Price  Price/Earnings  \\\n",
       "0    MMM           3M Company             Industrials  222.89           24.31   \n",
       "1    AOS      A.O. Smith Corp             Industrials   60.24           27.76   \n",
       "2    ABT  Abbott Laboratories             Health Care   56.27           22.51   \n",
       "3   ABBV          AbbVie Inc.             Health Care  108.48           19.41   \n",
       "4    ACN        Accenture plc  Information Technology  150.51           25.47   \n",
       "\n",
       "   Dividend Yield  Earnings/Share  52 Week Low  52 Week High    Market Cap  \\\n",
       "0        2.332862            7.92       259.77       175.490  1.387210e+11   \n",
       "1        1.147959            1.70        68.39        48.925  1.078342e+10   \n",
       "2        1.908982            0.26        64.60        42.280  1.021210e+11   \n",
       "3        2.499560            3.29       125.86        60.050  1.813860e+11   \n",
       "4        1.714470            5.44       162.60       114.820  9.876586e+10   \n",
       "\n",
       "         EBITDA  Price/Sales  Price/Book  \\\n",
       "0  9.048000e+09     4.390271       11.34   \n",
       "1  6.010000e+08     3.575483        6.35   \n",
       "2  5.744000e+09     3.740480        3.19   \n",
       "3  1.031000e+10     6.291571       26.14   \n",
       "4  5.643228e+09     2.604117       10.62   \n",
       "\n",
       "                                         SEC Filings  \n",
       "0  http://www.sec.gov/cgi-bin/browse-edgar?action...  \n",
       "1  http://www.sec.gov/cgi-bin/browse-edgar?action...  \n",
       "2  http://www.sec.gov/cgi-bin/browse-edgar?action...  \n",
       "3  http://www.sec.gov/cgi-bin/browse-edgar?action...  \n",
       "4  http://www.sec.gov/cgi-bin/browse-edgar?action...  "
      ]
     },
     "execution_count": 2,
     "metadata": {},
     "output_type": "execute_result"
    }
   ],
   "source": [
    "# Read in S&P 500 data set using pandas\n",
    "financials = pd.read_csv(\"financials.csv\") \n",
    "financials.head()"
   ]
  },
  {
   "cell_type": "code",
   "execution_count": 3,
   "metadata": {},
   "outputs": [
    {
     "data": {
      "text/html": [
       "<div>\n",
       "<style scoped>\n",
       "    .dataframe tbody tr th:only-of-type {\n",
       "        vertical-align: middle;\n",
       "    }\n",
       "\n",
       "    .dataframe tbody tr th {\n",
       "        vertical-align: top;\n",
       "    }\n",
       "\n",
       "    .dataframe thead th {\n",
       "        text-align: right;\n",
       "    }\n",
       "</style>\n",
       "<table border=\"1\" class=\"dataframe\">\n",
       "  <thead>\n",
       "    <tr style=\"text-align: right;\">\n",
       "      <th></th>\n",
       "      <th>Symbol</th>\n",
       "      <th>Name</th>\n",
       "      <th>Sector</th>\n",
       "      <th>Price</th>\n",
       "      <th>Price/Earnings</th>\n",
       "      <th>Dividend Yield</th>\n",
       "      <th>Earnings/Share</th>\n",
       "      <th>52 Week Low</th>\n",
       "      <th>52 Week High</th>\n",
       "      <th>Market Cap</th>\n",
       "      <th>...</th>\n",
       "      <th>Consumer Staples</th>\n",
       "      <th>Energy</th>\n",
       "      <th>Financials</th>\n",
       "      <th>Health Care</th>\n",
       "      <th>Industrials</th>\n",
       "      <th>Information Technology</th>\n",
       "      <th>Materials</th>\n",
       "      <th>Real Estate</th>\n",
       "      <th>Telecommunication Services</th>\n",
       "      <th>Utilities</th>\n",
       "    </tr>\n",
       "  </thead>\n",
       "  <tbody>\n",
       "    <tr>\n",
       "      <th>0</th>\n",
       "      <td>MMM</td>\n",
       "      <td>3M Company</td>\n",
       "      <td>Industrials</td>\n",
       "      <td>222.89</td>\n",
       "      <td>24.31</td>\n",
       "      <td>2.332862</td>\n",
       "      <td>7.92</td>\n",
       "      <td>259.77</td>\n",
       "      <td>175.490</td>\n",
       "      <td>1.387210e+11</td>\n",
       "      <td>...</td>\n",
       "      <td>0</td>\n",
       "      <td>0</td>\n",
       "      <td>0</td>\n",
       "      <td>0</td>\n",
       "      <td>1</td>\n",
       "      <td>0</td>\n",
       "      <td>0</td>\n",
       "      <td>0</td>\n",
       "      <td>0</td>\n",
       "      <td>0</td>\n",
       "    </tr>\n",
       "    <tr>\n",
       "      <th>1</th>\n",
       "      <td>AOS</td>\n",
       "      <td>A.O. Smith Corp</td>\n",
       "      <td>Industrials</td>\n",
       "      <td>60.24</td>\n",
       "      <td>27.76</td>\n",
       "      <td>1.147959</td>\n",
       "      <td>1.70</td>\n",
       "      <td>68.39</td>\n",
       "      <td>48.925</td>\n",
       "      <td>1.078342e+10</td>\n",
       "      <td>...</td>\n",
       "      <td>0</td>\n",
       "      <td>0</td>\n",
       "      <td>0</td>\n",
       "      <td>0</td>\n",
       "      <td>1</td>\n",
       "      <td>0</td>\n",
       "      <td>0</td>\n",
       "      <td>0</td>\n",
       "      <td>0</td>\n",
       "      <td>0</td>\n",
       "    </tr>\n",
       "    <tr>\n",
       "      <th>2</th>\n",
       "      <td>ABT</td>\n",
       "      <td>Abbott Laboratories</td>\n",
       "      <td>Health Care</td>\n",
       "      <td>56.27</td>\n",
       "      <td>22.51</td>\n",
       "      <td>1.908982</td>\n",
       "      <td>0.26</td>\n",
       "      <td>64.60</td>\n",
       "      <td>42.280</td>\n",
       "      <td>1.021210e+11</td>\n",
       "      <td>...</td>\n",
       "      <td>0</td>\n",
       "      <td>0</td>\n",
       "      <td>0</td>\n",
       "      <td>1</td>\n",
       "      <td>0</td>\n",
       "      <td>0</td>\n",
       "      <td>0</td>\n",
       "      <td>0</td>\n",
       "      <td>0</td>\n",
       "      <td>0</td>\n",
       "    </tr>\n",
       "    <tr>\n",
       "      <th>3</th>\n",
       "      <td>ABBV</td>\n",
       "      <td>AbbVie Inc.</td>\n",
       "      <td>Health Care</td>\n",
       "      <td>108.48</td>\n",
       "      <td>19.41</td>\n",
       "      <td>2.499560</td>\n",
       "      <td>3.29</td>\n",
       "      <td>125.86</td>\n",
       "      <td>60.050</td>\n",
       "      <td>1.813860e+11</td>\n",
       "      <td>...</td>\n",
       "      <td>0</td>\n",
       "      <td>0</td>\n",
       "      <td>0</td>\n",
       "      <td>1</td>\n",
       "      <td>0</td>\n",
       "      <td>0</td>\n",
       "      <td>0</td>\n",
       "      <td>0</td>\n",
       "      <td>0</td>\n",
       "      <td>0</td>\n",
       "    </tr>\n",
       "    <tr>\n",
       "      <th>4</th>\n",
       "      <td>ACN</td>\n",
       "      <td>Accenture plc</td>\n",
       "      <td>Information Technology</td>\n",
       "      <td>150.51</td>\n",
       "      <td>25.47</td>\n",
       "      <td>1.714470</td>\n",
       "      <td>5.44</td>\n",
       "      <td>162.60</td>\n",
       "      <td>114.820</td>\n",
       "      <td>9.876586e+10</td>\n",
       "      <td>...</td>\n",
       "      <td>0</td>\n",
       "      <td>0</td>\n",
       "      <td>0</td>\n",
       "      <td>0</td>\n",
       "      <td>0</td>\n",
       "      <td>1</td>\n",
       "      <td>0</td>\n",
       "      <td>0</td>\n",
       "      <td>0</td>\n",
       "      <td>0</td>\n",
       "    </tr>\n",
       "  </tbody>\n",
       "</table>\n",
       "<p>5 rows × 25 columns</p>\n",
       "</div>"
      ],
      "text/plain": [
       "  Symbol                 Name                  Sector   Price  Price/Earnings  \\\n",
       "0    MMM           3M Company             Industrials  222.89           24.31   \n",
       "1    AOS      A.O. Smith Corp             Industrials   60.24           27.76   \n",
       "2    ABT  Abbott Laboratories             Health Care   56.27           22.51   \n",
       "3   ABBV          AbbVie Inc.             Health Care  108.48           19.41   \n",
       "4    ACN        Accenture plc  Information Technology  150.51           25.47   \n",
       "\n",
       "   Dividend Yield  Earnings/Share  52 Week Low  52 Week High    Market Cap  \\\n",
       "0        2.332862            7.92       259.77       175.490  1.387210e+11   \n",
       "1        1.147959            1.70        68.39        48.925  1.078342e+10   \n",
       "2        1.908982            0.26        64.60        42.280  1.021210e+11   \n",
       "3        2.499560            3.29       125.86        60.050  1.813860e+11   \n",
       "4        1.714470            5.44       162.60       114.820  9.876586e+10   \n",
       "\n",
       "   ...  Consumer Staples  Energy  Financials Health Care  Industrials  \\\n",
       "0  ...                 0       0           0           0            1   \n",
       "1  ...                 0       0           0           0            1   \n",
       "2  ...                 0       0           0           1            0   \n",
       "3  ...                 0       0           0           1            0   \n",
       "4  ...                 0       0           0           0            0   \n",
       "\n",
       "   Information Technology  Materials  Real Estate  Telecommunication Services  \\\n",
       "0                       0          0            0                           0   \n",
       "1                       0          0            0                           0   \n",
       "2                       0          0            0                           0   \n",
       "3                       0          0            0                           0   \n",
       "4                       1          0            0                           0   \n",
       "\n",
       "   Utilities  \n",
       "0          0  \n",
       "1          0  \n",
       "2          0  \n",
       "3          0  \n",
       "4          0  \n",
       "\n",
       "[5 rows x 25 columns]"
      ]
     },
     "execution_count": 3,
     "metadata": {},
     "output_type": "execute_result"
    }
   ],
   "source": [
    "# Create Dummy variable for Sector\n",
    "financialsj=pd.get_dummies(financials[\"Sector\"])\n",
    "#join dummy dataframe to pandas dataframe\n",
    "financials=financials.join(financialsj)\n",
    "financials.head()"
   ]
  },
  {
   "cell_type": "code",
   "execution_count": 4,
   "metadata": {},
   "outputs": [
    {
     "name": "stdout",
     "output_type": "stream",
     "text": [
      "+------+--------------------+--------------------+------+--------------+--------------+--------------+-----------+------------+---------------+----------+-----------+----------+--------------------+----------------------+----------------+------+----------+-----------+-----------+----------------------+---------+-----------+--------------------------+---------+\n",
      "|Symbol|                Name|              Sector| Price|Price/Earnings|Dividend Yield|Earnings/Share|52 Week Low|52 Week High|     Market Cap|    EBITDA|Price/Sales|Price/Book|         SEC Filings|Consumer Discretionary|Consumer Staples|Energy|Financials|Health Care|Industrials|Information Technology|Materials|Real Estate|Telecommunication Services|Utilities|\n",
      "+------+--------------------+--------------------+------+--------------+--------------+--------------+-----------+------------+---------------+----------+-----------+----------+--------------------+----------------------+----------------+------+----------+-----------+-----------+----------------------+---------+-----------+--------------------------+---------+\n",
      "|   MMM|          3M Company|         Industrials|222.89|         24.31|     2.3328617|          7.92|     259.77|      175.49|     1.38721E11|   9.048E9|  4.3902707|     11.34|http://www.sec.go...|                     0|               0|     0|         0|          0|          1|                     0|        0|          0|                         0|        0|\n",
      "|   AOS|     A.O. Smith Corp|         Industrials| 60.24|         27.76|     1.1479592|           1.7|      68.39|      48.925|1.0783419933E10|    6.01E8|  3.5754826|      6.35|http://www.sec.go...|                     0|               0|     0|         0|          0|          1|                     0|        0|          0|                         0|        0|\n",
      "|   ABT| Abbott Laboratories|         Health Care| 56.27|         22.51|     1.9089824|          0.26|       64.6|       42.28|     1.02121E11|   5.744E9|  3.7404804|      3.19|http://www.sec.go...|                     0|               0|     0|         0|          1|          0|                     0|        0|          0|                         0|        0|\n",
      "|  ABBV|         AbbVie Inc.|         Health Care|108.48|         19.41|     2.4995599|          3.29|     125.86|       60.05|     1.81386E11|  1.031E10|   6.291571|     26.14|http://www.sec.go...|                     0|               0|     0|         0|          1|          0|                     0|        0|          0|                         0|        0|\n",
      "|   ACN|       Accenture plc|Information Techn...|150.51|         25.47|     1.7144699|          5.44|      162.6|      114.82|9.8765855553E10|5.643228E9|   2.604117|     10.62|http://www.sec.go...|                     0|               0|     0|         0|          0|          0|                     1|        0|          0|                         0|        0|\n",
      "|  ATVI| Activision Blizzard|Information Techn...| 65.83|          31.8|    0.43190324|          1.28|     74.945|       38.93|5.2518668144E10|   2.704E9|   10.59512|      5.16|http://www.sec.go...|                     0|               0|     0|         0|          0|          0|                     1|        0|          0|                         0|        0|\n",
      "|   AYI|   Acuity Brands Inc|         Industrials|145.41|         18.22|    0.35118526|          7.43|     225.36|       142.0|  6.242377704E9|   5.878E8|  1.7953473|      3.55|http://www.sec.go...|                     0|               0|     0|         0|          0|          1|                     0|        0|          0|                         0|        0|\n",
      "|  ADBE|   Adobe Systems Inc|Information Techn...|185.16|         52.31|           0.0|          3.39|     204.45|     114.451|9.4550214268E10| 2.53804E9|  13.092818|     11.06|http://www.sec.go...|                     0|               0|     0|         0|          0|          0|                     1|        0|          0|                         0|        0|\n",
      "|   AAP|  Advance Auto Parts|Consumer Discreti...|109.63|         19.54|    0.21832074|          6.19|     169.55|       78.81|  8.123611867E9| 8.53941E8|  1.1301061|      2.51|http://www.sec.go...|                     1|               0|     0|         0|          0|          0|                     0|        0|          0|                         0|        0|\n",
      "|   AMD|Advanced Micro De...|Information Techn...| 11.22|         187.0|           0.0|          0.03|      15.65|         9.7|1.1191663795E10|    3.39E8|  2.1091955|     21.47|http://www.sec.go...|                     0|               0|     0|         0|          0|          0|                     1|        0|          0|                         0|        0|\n",
      "|   AES|            AES Corp|           Utilities| 10.06|          9.96|      4.961832|         -1.72|      12.05|        10.0|  6.920851212E9|   3.001E9| 0.65951383|       2.2|http://www.sec.go...|                     0|               0|     0|         0|          0|          0|                     0|        0|          0|                         0|        1|\n",
      "|   AET|           Aetna Inc|         Health Care| 178.0|         18.11|      1.101989|          5.75|      194.4|      119.51|5.9197016353E10|   4.139E9|  0.9923546|      3.79|http://www.sec.go...|                     0|               0|     0|         0|          1|          0|                     0|        0|          0|                         0|        0|\n",
      "|   AMG|Affiliated Manage...|          Financials|179.11|         12.24|     0.6387395|         12.07|    216.995|      148.81|1.0442174371E10|  1.2614E9|   4.591235|      2.89|http://www.sec.go...|                     0|               0|     0|         1|          0|          0|                     0|        0|          0|                         0|        0|\n",
      "|   AFL|           AFLAC Inc|          Financials| 83.25|         12.24|     2.4299066|         11.01|      91.73|        68.8|   3.3422948E10|       0.0|  1.5429344|      1.53|http://www.sec.go...|                     0|               0|     0|         1|          0|          0|                     0|        0|          0|                         0|        0|\n",
      "|     A|Agilent Technolog...|         Health Care| 65.05|         27.45|     0.8756979|           2.1|       75.0|       49.23|2.1984606918E10|   1.094E9|   6.493563|      4.56|http://www.sec.go...|                     0|               0|     0|         0|          1|          0|                     0|        0|          0|                         0|        0|\n",
      "|   APD|Air Products & Ch...|           Materials| 152.8|         24.22|     2.7811136|         13.66|     175.17|    133.6301|3.4638387128E10|  2.5425E9|  4.1163683|      3.35|http://www.sec.go...|                     0|               0|     0|         0|          0|          0|                     0|        1|          0|                         0|        0|\n",
      "|  AKAM|Akamai Technologi...|Information Techn...| 62.49|         32.55|           0.0|          1.79|      69.56|       44.65|1.0906904066E10| 7.89517E8|  5.8546524|      3.25|http://www.sec.go...|                     0|               0|     0|         0|          0|          0|                     1|        0|          0|                         0|        0|\n",
      "|   ALK|Alaska Air Group Inc|         Industrials| 64.04|          9.66|     1.9928383|          8.28|     101.43|       59.25|  7.903173734E9|   1.665E9|  0.9801092|      2.21|http://www.sec.go...|                     0|               0|     0|         0|          0|          1|                     0|        0|          0|                         0|        0|\n",
      "|   ALB|      Albemarle Corp|           Materials|105.18|         26.03|     1.2004126|          5.66|     144.99|       90.35|1.1782151266E10|  6.8603E8|  5.3666205|      2.98|http://www.sec.go...|                     0|               0|     0|         0|          0|          0|                     0|        1|          0|                         0|        0|\n",
      "|   ARE|Alexandria Real E...|         Real Estate|114.58|         19.03|     3.0262272|          1.57|     134.37|      106.89|1.2043374429E10|       0.0|  10.492155|      2.07|http://www.sec.go...|                     0|               0|     0|         0|          0|          0|                     0|        0|          1|                         0|        0|\n",
      "+------+--------------------+--------------------+------+--------------+--------------+--------------+-----------+------------+---------------+----------+-----------+----------+--------------------+----------------------+----------------+------+----------+-----------+-----------+----------------------+---------+-----------+--------------------------+---------+\n",
      "only showing top 20 rows\n",
      "\n"
     ]
    }
   ],
   "source": [
    "findata = spark.createDataFrame(financials) #convert to spark data frame\n",
    "findata.show()"
   ]
  },
  {
   "cell_type": "code",
   "execution_count": 5,
   "metadata": {},
   "outputs": [],
   "source": [
    "#change the column name for train set and test set for easier EDA\n",
    "findata = findata.select([func.col(col).alias(col.replace('/', '_')) for col in findata.columns])\n",
    "findata = findata.select([func.col(col).alias(col.replace(' ', '_')) for col in findata.columns])"
   ]
  },
  {
   "cell_type": "code",
   "execution_count": 6,
   "metadata": {},
   "outputs": [],
   "source": [
    "findata=findata.filter(findata.Price<400)"
   ]
  },
  {
   "cell_type": "code",
   "execution_count": 7,
   "metadata": {},
   "outputs": [],
   "source": [
    "#remove the missing data\n",
    "findata=findata.na.drop()"
   ]
  },
  {
   "cell_type": "code",
   "execution_count": 8,
   "metadata": {},
   "outputs": [
    {
     "name": "stdout",
     "output_type": "stream",
     "text": [
      "384 103\n"
     ]
    }
   ],
   "source": [
    "#split pandas dataframe then transfer train and test set to spark\n",
    "# Create training and test set with 80%/20% split, returning #obs in each set\n",
    "# We will use THESE sets during modeling\n",
    "train, test = findata.randomSplit([0.8, 0.2], seed = 3)\n",
    "print(train.count(), test.count())"
   ]
  },
  {
   "cell_type": "raw",
   "metadata": {},
   "source": [
    "# check the columns ( pysqldataframe)\n",
    "train.printSchema()\n",
    "train.describe()"
   ]
  },
  {
   "cell_type": "markdown",
   "metadata": {},
   "source": [
    "## 3. EDA"
   ]
  },
  {
   "cell_type": "raw",
   "metadata": {},
   "source": [
    "#checking for null values( pysqldataframe)\n",
    "train.select([count(when(isnan(c), c)).alias(c) for c in train.columns]).show()\n",
    "# Price/Earnings has 2 and Price/Book has 7"
   ]
  },
  {
   "cell_type": "raw",
   "metadata": {},
   "source": [
    "#summary for numeric variables\n",
    "train.select(train.columns[4:13]).summary().show()"
   ]
  },
  {
   "cell_type": "raw",
   "metadata": {},
   "source": [
    "#summary for categorical variables\n",
    "\n",
    "train.groupBy('Sector').count().select(func.col(\"Sector\"),func.col(\"count\")).show()\n",
    "pie1=train.groupBy('Sector').count().select(func.col(\"Sector\"),func.col(\"count\"))"
   ]
  },
  {
   "cell_type": "markdown",
   "metadata": {
    "tags": []
   },
   "source": [
    "## Outlier"
   ]
  },
  {
   "cell_type": "raw",
   "metadata": {},
   "source": [
    "# Convert training set above to pandas-on-spark data set \n",
    "fintrain = train.to_pandas_on_spark()\n",
    "fintest = test.to_pandas_on_spark()\n",
    "\n",
    "# Describe numeric variables in data set and see the data dristribution\n",
    "fintrain.describe()"
   ]
  },
  {
   "cell_type": "raw",
   "metadata": {},
   "source": [
    "#check the distribution of price\n",
    "train_pd=train.toPandas()\n",
    "pl.figure(figsize=(12,10))\n",
    "pl.title(\"Distribution Price\")\n",
    "ax = sns.distplot(train_pd[\"Price\"], color = 'y')# no negative number"
   ]
  },
  {
   "cell_type": "raw",
   "metadata": {},
   "source": [
    "# Check Boxplot and see the price distribution by sectors\n",
    "fig, ax = plt.subplots(1, 1, figsize=(30,30))\n",
    "sns.boxplot(x='Sector',y='Price',data=train.toPandas(),color='yellow')"
   ]
  },
  {
   "cell_type": "raw",
   "metadata": {},
   "source": [
    "\n",
    "test=test.filter(test.Price<400)"
   ]
  },
  {
   "cell_type": "raw",
   "metadata": {},
   "source": [
    "# boxplot of price ( after remove outliers)\n",
    "fig, ax = plt.subplots(1, 1, figsize=(30,10))\n",
    "sns.boxplot(x='Sector',y='Price',data=train.toPandas(),color='yellow')"
   ]
  },
  {
   "cell_type": "raw",
   "metadata": {},
   "source": [
    "# different sectors price pencentile and check the outlier \n",
    "# Find quantiles of Price\n",
    "#fintrain is ponda_on_sprak\n",
    "#findata_pd_temp=train.filter(train.Sector==\"Energy\")\n",
    "#findata_pd_temp.to_pandas_on_spark().quantile([0.01, 0.25, 0.5, 0.75, 0.99])\n",
    "train_per = train.groupby('Sector').agg(F.expr('percentile(Price, array(0.01))')[0].alias('%1'),\n",
    "                             F.expr('percentile(Price, array(0.25))')[0].alias('%25'),\n",
    "                             F.expr('percentile(Price, array(0.50))')[0].alias('%50'),\n",
    "                             F.expr('percentile(Price, array(0.75))')[0].alias('%75'),\n",
    "                             F.expr('percentile(Price, array(0.99))')[0].alias('%99'))\n",
    "train_per.show()"
   ]
  },
  {
   "cell_type": "raw",
   "metadata": {},
   "source": [
    "findata_pd_temp=fintrain[fintrain['Sector']==\"Financials\"]\n",
    "len(findata_pd_temp)\n",
    "findata_pd_temp.Price.quantile([0.01, 0.25, 0.5, 0.75, 0.99])"
   ]
  },
  {
   "cell_type": "raw",
   "metadata": {},
   "source": [
    "findata_pd_temp=fintrain[fintrain['Sector']==\"Health Care\"]\n",
    "len(findata_pd_temp)\n",
    "findata_pd_temp.Price.quantile([0.01, 0.25, 0.5, 0.75, 0.99])"
   ]
  },
  {
   "cell_type": "raw",
   "metadata": {},
   "source": [
    "findata_pd_temp=fintrain[fintrain['Sector']==\"Industrials\"]\n",
    "len(findata_pd_temp)\n",
    "findata_pd_temp.Price.quantile([0.01, 0.25, 0.5, 0.75, 0.99])"
   ]
  },
  {
   "cell_type": "raw",
   "metadata": {},
   "source": [
    "findata_pd_temp=fintrain[fintrain['Sector']==\"Information Technology\"]\n",
    "len(findata_pd_temp)\n",
    "findata_pd_temp.Price.quantile([0.01, 0.25, 0.5, 0.75, 0.99])"
   ]
  },
  {
   "cell_type": "raw",
   "metadata": {},
   "source": [
    "findata_pd_temp=fintrain[fintrain['Sector']==\"Materials\"]\n",
    "len(findata_pd_temp)\n",
    "findata_pd_temp.Price.quantile([0.01, 0.25, 0.5, 0.75, 0.99])"
   ]
  },
  {
   "cell_type": "raw",
   "metadata": {},
   "source": [
    "findata_pd_temp=fintrain[fintrain['Sector']==\"Real Estate\"]\n",
    "len(findata_pd_temp)\n",
    "findata_pd_temp.Price.quantile([0.01, 0.25, 0.5, 0.75, 0.99])"
   ]
  },
  {
   "cell_type": "raw",
   "metadata": {},
   "source": [
    "findata_pd_temp=fintrain[fintrain['Sector']==\"Telecommunication Services\"]\n",
    "len(findata_pd_temp)\n",
    "findata_pd_temp.Price.quantile([0.01, 0.25, 0.5, 0.75, 0.99])"
   ]
  },
  {
   "cell_type": "raw",
   "metadata": {},
   "source": [
    "findata_pd_temp=fintrain[fintrain['Sector']==\"Utilities\"]\n",
    "len(findata_pd_temp)\n",
    "findata_pd_temp.Price.quantile([0.01, 0.25, 0.5, 0.75, 0.99])"
   ]
  },
  {
   "cell_type": "raw",
   "metadata": {},
   "source": [
    "# different sectors price pencentile and check the outlier \n",
    "# Find quantiles of Price\n",
    "#fintrain is ponda_on_sprak\n",
    "findata_pd_temp=fintrain[fintrain['Sector']==\"Health Care\"]\n",
    "len(findata_pd_temp)\n",
    "findata_pd_temp.Price.quantile([0.01, 0.25, 0.5, 0.75, 0.99])"
   ]
  },
  {
   "cell_type": "raw",
   "metadata": {},
   "source": [
    "# View mean Price, Price/Earnings, Earnings/Share, and EBITDA for each sector\n",
    "#findata.groupby([\"Sector\"])[[\"Price\",\"Price_Earnings\", \"Earnings_Share\", \"EBITDA\"]].agg(\"mean\")\n",
    "findata.groupBy('Sector').avg().show()"
   ]
  },
  {
   "cell_type": "raw",
   "metadata": {},
   "source": [
    "# Create categorical version of Price variable with levels \"Low\" \"Medium\" and \"High\" based on quantiles above\n",
    "\n",
    "from pyspark.sql.functions import udf\n",
    "from pyspark.sql.types import *\n",
    "from pyspark.sql.functions import *\n",
    "\n",
    "def categorizer(price):\n",
    "    if price < 46.25:\n",
    "        return \"Low\"\n",
    "    elif price < 116.54:\n",
    "        return \"Mid\"\n",
    "    else:\n",
    "        return \"High\"\n",
    "    \n",
    "pricecat_udf = udf(categorizer, StringType())\n",
    "fintrain = train.withColumn(\"Price_cat\", pricecat_udf(\"Price\")).to_pandas_on_spark()\n",
    "fintrain.head()"
   ]
  },
  {
   "cell_type": "raw",
   "metadata": {},
   "source": [
    "# create pivot table returning mean EBITDA for each Sector/Price Level\n",
    "\n",
    "fintrain.pivot_table(index = [\"Sector\"], columns = 'Price_cat', values = \"EBITDA\", aggfunc = \"mean\")"
   ]
  },
  {
   "cell_type": "markdown",
   "metadata": {},
   "source": [
    "### Plot- Matplotlib and Seaborn"
   ]
  },
  {
   "cell_type": "raw",
   "metadata": {
    "tags": []
   },
   "source": [
    "# Return unique values of Sector variable\n",
    "findata.select('Sector').distinct().show()"
   ]
  },
  {
   "cell_type": "raw",
   "metadata": {},
   "source": [
    "# Determining number of each company in each sector\n",
    "findata.groupBy('Sector','Name').count().show(truncate=False)"
   ]
  },
  {
   "cell_type": "raw",
   "metadata": {
    "tags": []
   },
   "source": [
    "#find company volume for each Sector\n",
    "#pie chart\n",
    "#sparksql to pd\n",
    "pie1_pd=pie1.toPandas()\n",
    "type(pie1_pd)\n",
    "sector_names = list(pie1_pd['Sector'])\n",
    "sector_values = list(pie1_pd['count']) \n",
    "\n",
    "pie, ax = plt.subplots(figsize=[15,10])\n",
    "plt.pie(x=sector_values, autopct=\"%.1f%%\", explode=[0.05]*len(sector_values), labels=sector_names, pctdistance=0.5)\n",
    "plt.title(\"S&P 500 sector breakdown\", fontsize=14);\n",
    "pie.savefig(\"DeliveryPieChart.png\")"
   ]
  },
  {
   "cell_type": "raw",
   "metadata": {},
   "source": [
    "# Use matplotlib to plot earnings per share against price\n",
    "# sparksql to pd\n",
    "findata_pd=train.toPandas()\n",
    "\n",
    "\n",
    "findata_pd.Sector = findata_pd.Sector.astype('category')\n",
    "\n",
    "plt.scatter(x = findata_pd[\"Price_Earnings\"].to_numpy(), y =findata_pd[\"Price\"].to_numpy(),\n",
    "           s = 15)\n",
    "plt.xlabel(\"Price_Earnings\")\n",
    "plt.ylabel(\"Price ($)\")\n",
    "plt.title(\"Share Price as a Function of Earnings per Share\")\n",
    "\n",
    "x = findata_pd[\"Price_Earnings\"].to_numpy()\n",
    "y = findata_pd[\"Price\"].to_numpy()\n",
    "\n",
    "z = np.polyfit(x, y, 2)\n",
    "p = np.poly1d(z)\n",
    "\n",
    "plt.plot(x, p(x), \"y--\")"
   ]
  },
  {
   "cell_type": "raw",
   "metadata": {},
   "source": [
    "# Correlation analysis of our new data frame\n",
    "findata_pd.iloc[:,:].corr().style.background_gradient(cmap='Blues').format(\"{:.3f}\")"
   ]
  },
  {
   "cell_type": "markdown",
   "metadata": {},
   "source": [
    "### 4. Modeling"
   ]
  },
  {
   "cell_type": "markdown",
   "metadata": {},
   "source": [
    "## Model 1"
   ]
  },
  {
   "cell_type": "code",
   "execution_count": 9,
   "metadata": {
    "tags": []
   },
   "outputs": [],
   "source": [
    "#stock price prediction \n",
    "sqlTrans = SQLTransformer(\n",
    "    statement =  \"Select Dividend_Yield, Market_Cap/1000000000 as Market_Cap, EBITDA/1000000000 as EBITDA, Price_Sales, Price_Book, 52_Week_Low, Price as label FROM __THIS__;\"\n",
    ")"
   ]
  },
  {
   "cell_type": "code",
   "execution_count": 10,
   "metadata": {},
   "outputs": [
    {
     "name": "stdout",
     "output_type": "stream",
     "text": [
      "+--------------+------------+--------+-----------+----------+-----------+------+\n",
      "|Dividend_Yield|  Market_Cap|  EBITDA|Price_Sales|Price_Book|52_Week_Low| label|\n",
      "+--------------+------------+--------+-----------+----------+-----------+------+\n",
      "|     0.8756979|21.984606918|   1.094|   6.493563|      4.56|       75.0| 65.05|\n",
      "|     0.7782101|24.594852352|   5.761| 0.58022565|      6.03|      59.08|  48.6|\n",
      "|     1.5795412|     809.508|  79.386|  3.4586093|      5.66|      180.1|155.15|\n",
      "|     2.4995599|     181.386|   10.31|   6.291571|     26.14|     125.86|108.48|\n",
      "|     1.6132456|20.587704101|0.991884| 0.17396984|      9.73|     106.27| 91.55|\n",
      "+--------------+------------+--------+-----------+----------+-----------+------+\n",
      "only showing top 5 rows\n",
      "\n"
     ]
    }
   ],
   "source": [
    "sqlTrans.transform(train).show(5)"
   ]
  },
  {
   "cell_type": "code",
   "execution_count": 11,
   "metadata": {},
   "outputs": [],
   "source": [
    "#put 6 predictors into feature\n",
    "assembler = VectorAssembler(inputCols = [\"Dividend_Yield\", \"Market_Cap\", \"EBITDA\", \"Price_Sales\", \"Price_Book\", \"52_Week_Low\"], outputCol = \"features\", handleInvalid = 'keep')\n"
   ]
  },
  {
   "cell_type": "code",
   "execution_count": 12,
   "metadata": {},
   "outputs": [],
   "source": [
    "# Use CV to tune the parameter\n",
    "\n",
    "CVTrainModel1 = LinearRegression()\n",
    "pipeline = Pipeline(stages = [sqlTrans, assembler, CVTrainModel1])"
   ]
  },
  {
   "cell_type": "code",
   "execution_count": 13,
   "metadata": {},
   "outputs": [],
   "source": [
    "#Grid the parameter\n",
    "paramGrid = ParamGridBuilder() \\\n",
    "    .addGrid(CVTrainModel1.regParam, [0, 0.01, 0.05]) \\\n",
    "    .addGrid(CVTrainModel1.fitIntercept, [False, True]) \\\n",
    "    .addGrid(CVTrainModel1.elasticNetParam, [0, 0.05, 0.1]) \\\n",
    "    .build()"
   ]
  },
  {
   "cell_type": "code",
   "execution_count": 14,
   "metadata": {},
   "outputs": [],
   "source": [
    "# Use CV to evaluate the RMSE to find min RMSE ( find the best model from 18 models)\n",
    "crossval = CrossValidator(estimator = pipeline,\n",
    "                          estimatorParamMaps = paramGrid,\n",
    "                          evaluator = RegressionEvaluator(metricName='rmse'),\n",
    "                          numFolds=5)"
   ]
  },
  {
   "cell_type": "code",
   "execution_count": 15,
   "metadata": {},
   "outputs": [],
   "source": [
    "# put training set to fit the model\n",
    "CVModel = crossval.fit(train)"
   ]
  },
  {
   "cell_type": "code",
   "execution_count": 16,
   "metadata": {},
   "outputs": [
    {
     "data": {
      "text/plain": [
       "[(14.051417349377228,\n",
       "  {Param(parent='LinearRegression_ee19c0f3f787', name='regParam', doc='regularization parameter (>= 0).'): 0.0,\n",
       "   Param(parent='LinearRegression_ee19c0f3f787', name='fitIntercept', doc='whether to fit an intercept term.'): False,\n",
       "   Param(parent='LinearRegression_ee19c0f3f787', name='elasticNetParam', doc='the ElasticNet mixing parameter, in range [0, 1]. For alpha = 0, the penalty is an L2 penalty. For alpha = 1, it is an L1 penalty.'): 0.0}),\n",
       " (14.051417349377228,\n",
       "  {Param(parent='LinearRegression_ee19c0f3f787', name='regParam', doc='regularization parameter (>= 0).'): 0.0,\n",
       "   Param(parent='LinearRegression_ee19c0f3f787', name='fitIntercept', doc='whether to fit an intercept term.'): False,\n",
       "   Param(parent='LinearRegression_ee19c0f3f787', name='elasticNetParam', doc='the ElasticNet mixing parameter, in range [0, 1]. For alpha = 0, the penalty is an L2 penalty. For alpha = 1, it is an L1 penalty.'): 0.05}),\n",
       " (14.051417349377228,\n",
       "  {Param(parent='LinearRegression_ee19c0f3f787', name='regParam', doc='regularization parameter (>= 0).'): 0.0,\n",
       "   Param(parent='LinearRegression_ee19c0f3f787', name='fitIntercept', doc='whether to fit an intercept term.'): False,\n",
       "   Param(parent='LinearRegression_ee19c0f3f787', name='elasticNetParam', doc='the ElasticNet mixing parameter, in range [0, 1]. For alpha = 0, the penalty is an L2 penalty. For alpha = 1, it is an L1 penalty.'): 0.1}),\n",
       " (14.088313856091665,\n",
       "  {Param(parent='LinearRegression_ee19c0f3f787', name='regParam', doc='regularization parameter (>= 0).'): 0.0,\n",
       "   Param(parent='LinearRegression_ee19c0f3f787', name='fitIntercept', doc='whether to fit an intercept term.'): True,\n",
       "   Param(parent='LinearRegression_ee19c0f3f787', name='elasticNetParam', doc='the ElasticNet mixing parameter, in range [0, 1]. For alpha = 0, the penalty is an L2 penalty. For alpha = 1, it is an L1 penalty.'): 0.0}),\n",
       " (14.088313856091665,\n",
       "  {Param(parent='LinearRegression_ee19c0f3f787', name='regParam', doc='regularization parameter (>= 0).'): 0.0,\n",
       "   Param(parent='LinearRegression_ee19c0f3f787', name='fitIntercept', doc='whether to fit an intercept term.'): True,\n",
       "   Param(parent='LinearRegression_ee19c0f3f787', name='elasticNetParam', doc='the ElasticNet mixing parameter, in range [0, 1]. For alpha = 0, the penalty is an L2 penalty. For alpha = 1, it is an L1 penalty.'): 0.05}),\n",
       " (14.088313856091665,\n",
       "  {Param(parent='LinearRegression_ee19c0f3f787', name='regParam', doc='regularization parameter (>= 0).'): 0.0,\n",
       "   Param(parent='LinearRegression_ee19c0f3f787', name='fitIntercept', doc='whether to fit an intercept term.'): True,\n",
       "   Param(parent='LinearRegression_ee19c0f3f787', name='elasticNetParam', doc='the ElasticNet mixing parameter, in range [0, 1]. For alpha = 0, the penalty is an L2 penalty. For alpha = 1, it is an L1 penalty.'): 0.1}),\n",
       " (14.05355336502537,\n",
       "  {Param(parent='LinearRegression_ee19c0f3f787', name='regParam', doc='regularization parameter (>= 0).'): 0.01,\n",
       "   Param(parent='LinearRegression_ee19c0f3f787', name='fitIntercept', doc='whether to fit an intercept term.'): False,\n",
       "   Param(parent='LinearRegression_ee19c0f3f787', name='elasticNetParam', doc='the ElasticNet mixing parameter, in range [0, 1]. For alpha = 0, the penalty is an L2 penalty. For alpha = 1, it is an L1 penalty.'): 0.0}),\n",
       " (14.052953700647459,\n",
       "  {Param(parent='LinearRegression_ee19c0f3f787', name='regParam', doc='regularization parameter (>= 0).'): 0.01,\n",
       "   Param(parent='LinearRegression_ee19c0f3f787', name='fitIntercept', doc='whether to fit an intercept term.'): False,\n",
       "   Param(parent='LinearRegression_ee19c0f3f787', name='elasticNetParam', doc='the ElasticNet mixing parameter, in range [0, 1]. For alpha = 0, the penalty is an L2 penalty. For alpha = 1, it is an L1 penalty.'): 0.05}),\n",
       " (14.052354828506788,\n",
       "  {Param(parent='LinearRegression_ee19c0f3f787', name='regParam', doc='regularization parameter (>= 0).'): 0.01,\n",
       "   Param(parent='LinearRegression_ee19c0f3f787', name='fitIntercept', doc='whether to fit an intercept term.'): False,\n",
       "   Param(parent='LinearRegression_ee19c0f3f787', name='elasticNetParam', doc='the ElasticNet mixing parameter, in range [0, 1]. For alpha = 0, the penalty is an L2 penalty. For alpha = 1, it is an L1 penalty.'): 0.1}),\n",
       " (14.090350735846059,\n",
       "  {Param(parent='LinearRegression_ee19c0f3f787', name='regParam', doc='regularization parameter (>= 0).'): 0.01,\n",
       "   Param(parent='LinearRegression_ee19c0f3f787', name='fitIntercept', doc='whether to fit an intercept term.'): True,\n",
       "   Param(parent='LinearRegression_ee19c0f3f787', name='elasticNetParam', doc='the ElasticNet mixing parameter, in range [0, 1]. For alpha = 0, the penalty is an L2 penalty. For alpha = 1, it is an L1 penalty.'): 0.0}),\n",
       " (14.089763965841833,\n",
       "  {Param(parent='LinearRegression_ee19c0f3f787', name='regParam', doc='regularization parameter (>= 0).'): 0.01,\n",
       "   Param(parent='LinearRegression_ee19c0f3f787', name='fitIntercept', doc='whether to fit an intercept term.'): True,\n",
       "   Param(parent='LinearRegression_ee19c0f3f787', name='elasticNetParam', doc='the ElasticNet mixing parameter, in range [0, 1]. For alpha = 0, the penalty is an L2 penalty. For alpha = 1, it is an L1 penalty.'): 0.05}),\n",
       " (14.089177564099352,\n",
       "  {Param(parent='LinearRegression_ee19c0f3f787', name='regParam', doc='regularization parameter (>= 0).'): 0.01,\n",
       "   Param(parent='LinearRegression_ee19c0f3f787', name='fitIntercept', doc='whether to fit an intercept term.'): True,\n",
       "   Param(parent='LinearRegression_ee19c0f3f787', name='elasticNetParam', doc='the ElasticNet mixing parameter, in range [0, 1]. For alpha = 0, the penalty is an L2 penalty. For alpha = 1, it is an L1 penalty.'): 0.1}),\n",
       " (14.062150818754317,\n",
       "  {Param(parent='LinearRegression_ee19c0f3f787', name='regParam', doc='regularization parameter (>= 0).'): 0.05,\n",
       "   Param(parent='LinearRegression_ee19c0f3f787', name='fitIntercept', doc='whether to fit an intercept term.'): False,\n",
       "   Param(parent='LinearRegression_ee19c0f3f787', name='elasticNetParam', doc='the ElasticNet mixing parameter, in range [0, 1]. For alpha = 0, the penalty is an L2 penalty. For alpha = 1, it is an L1 penalty.'): 0.0}),\n",
       " (14.05915843678723,\n",
       "  {Param(parent='LinearRegression_ee19c0f3f787', name='regParam', doc='regularization parameter (>= 0).'): 0.05,\n",
       "   Param(parent='LinearRegression_ee19c0f3f787', name='fitIntercept', doc='whether to fit an intercept term.'): False,\n",
       "   Param(parent='LinearRegression_ee19c0f3f787', name='elasticNetParam', doc='the ElasticNet mixing parameter, in range [0, 1]. For alpha = 0, the penalty is an L2 penalty. For alpha = 1, it is an L1 penalty.'): 0.05}),\n",
       " (14.056175391966285,\n",
       "  {Param(parent='LinearRegression_ee19c0f3f787', name='regParam', doc='regularization parameter (>= 0).'): 0.05,\n",
       "   Param(parent='LinearRegression_ee19c0f3f787', name='fitIntercept', doc='whether to fit an intercept term.'): False,\n",
       "   Param(parent='LinearRegression_ee19c0f3f787', name='elasticNetParam', doc='the ElasticNet mixing parameter, in range [0, 1]. For alpha = 0, the penalty is an L2 penalty. For alpha = 1, it is an L1 penalty.'): 0.1}),\n",
       " (14.098572792711833,\n",
       "  {Param(parent='LinearRegression_ee19c0f3f787', name='regParam', doc='regularization parameter (>= 0).'): 0.05,\n",
       "   Param(parent='LinearRegression_ee19c0f3f787', name='fitIntercept', doc='whether to fit an intercept term.'): True,\n",
       "   Param(parent='LinearRegression_ee19c0f3f787', name='elasticNetParam', doc='the ElasticNet mixing parameter, in range [0, 1]. For alpha = 0, the penalty is an L2 penalty. For alpha = 1, it is an L1 penalty.'): 0.0}),\n",
       " (14.09561785558331,\n",
       "  {Param(parent='LinearRegression_ee19c0f3f787', name='regParam', doc='regularization parameter (>= 0).'): 0.05,\n",
       "   Param(parent='LinearRegression_ee19c0f3f787', name='fitIntercept', doc='whether to fit an intercept term.'): True,\n",
       "   Param(parent='LinearRegression_ee19c0f3f787', name='elasticNetParam', doc='the ElasticNet mixing parameter, in range [0, 1]. For alpha = 0, the penalty is an L2 penalty. For alpha = 1, it is an L1 penalty.'): 0.05}),\n",
       " (14.092942081446132,\n",
       "  {Param(parent='LinearRegression_ee19c0f3f787', name='regParam', doc='regularization parameter (>= 0).'): 0.05,\n",
       "   Param(parent='LinearRegression_ee19c0f3f787', name='fitIntercept', doc='whether to fit an intercept term.'): True,\n",
       "   Param(parent='LinearRegression_ee19c0f3f787', name='elasticNetParam', doc='the ElasticNet mixing parameter, in range [0, 1]. For alpha = 0, the penalty is an L2 penalty. For alpha = 1, it is an L1 penalty.'): 0.1})]"
      ]
     },
     "execution_count": 16,
     "metadata": {},
     "output_type": "execute_result"
    }
   ],
   "source": [
    "# 18 models output\n",
    "list(zip(CVModel.avgMetrics, paramGrid))"
   ]
  },
  {
   "cell_type": "code",
   "execution_count": 17,
   "metadata": {},
   "outputs": [],
   "source": [
    "# use the best model to predict\n",
    "prediction=CVModel.transform(test)"
   ]
  },
  {
   "cell_type": "code",
   "execution_count": 18,
   "metadata": {},
   "outputs": [
    {
     "name": "stdout",
     "output_type": "stream",
     "text": [
      "+--------------+------------+--------+-----------+----------+-----------+------+--------------------+------------------+\n",
      "|Dividend_Yield|  Market_Cap|  EBITDA|Price_Sales|Price_Book|52_Week_Low| label|            features|        prediction|\n",
      "+--------------+------------+--------+-----------+----------+-----------+------+--------------------+------------------+\n",
      "|    0.21832074| 8.123611867|0.853941|  1.1301061|      2.51|     169.55|109.63|[0.21832074,8.123...|  139.701744308403|\n",
      "|     1.9089824|     102.121|   5.744|  3.7404804|      3.19|       64.6| 56.27|[1.9089824,102.12...|56.760769778498585|\n",
      "|     2.2190912|50.337702249|  2.7674|  4.0483294|     12.86|     125.24|108.25|[2.2190912,50.337...|105.13868506828496|\n",
      "|     0.9240122|13.632608582|  2.1432|  1.7282298|      8.28|     278.33| 240.6|[0.9240122,13.632...|229.30002894040618|\n",
      "|           0.0|24.348294504| -0.3781|   16.50682|    224.13|      131.1|104.81|[0.0,24.348294504...|110.32147731565992|\n",
      "|     2.4299066|   33.422948|     0.0|  1.5429344|      1.53|      91.73| 83.25|[2.4299066,33.422...| 77.27735597530433|\n",
      "|      1.643289|56.668833898| -2.8881|   4.820115|      0.83|      256.8| 164.2|[1.643289,56.6688...| 214.5566614426225|\n",
      "|           0.0|10.906904066|0.789517|  5.8546524|      3.25|      69.56| 62.49|[0.0,10.906904066...| 57.80797642326612|\n",
      "|           0.0|18.788041378|0.380326|  13.138819|     16.44|     287.32|220.71|[0.0,18.788041378...| 237.6845658985843|\n",
      "|           0.0|11.191663795|   0.339|  2.1091955|     21.47|      15.65| 11.22|[0.0,11.191663795...|13.432138988627619|\n",
      "|     2.9751508|     128.133|  11.945|    5.58192|      3.91|     201.23|173.12|[2.9751508,128.13...|169.29641780323757|\n",
      "|     2.3454583|15.696449735|   2.548|  0.6618165|       1.7|     121.71|  96.9|[2.3454583,15.696...|100.66796079217963|\n",
      "|     1.0245464|35.123123422|   1.858|  3.4972682|      6.78|     152.78|136.05|[1.0245464,35.123...|127.09514987683735|\n",
      "|     2.7811136|34.638387128|  2.5425|  4.1163683|      3.35|     175.17| 152.8|[2.7811136,34.638...| 145.6594885351219|\n",
      "|     0.8608971|26.955335395|  1.6717|    3.85675|      6.64|      93.62| 84.44|[0.8608971,26.955...| 78.13534054321566|\n",
      "|     3.0262272|12.043374429|     0.0|  10.492155|      2.07|     134.37|114.58|[3.0262272,12.043...|112.00699157302012|\n",
      "|     5.4156513|     226.713|  49.653|  1.4083152|       1.8|       42.7| 35.57|[5.4156513,226.71...| 36.13277924900991|\n",
      "|     2.9488583|92.791974933|   7.016|   6.961893|       4.4|     285.68|229.57|[2.9488583,92.791...|238.27205108368636|\n",
      "|     1.3518385|50.910180308|   1.537|  5.6912947|      3.98|   248.3888|211.44|[1.3518385,50.910...|206.58347060909733|\n",
      "|           0.0|     261.401|     0.0|  1.4328232|      1.58|     217.62|191.42|[0.0,261.401,0.0,...|189.81003338356663|\n",
      "+--------------+------------+--------+-----------+----------+-----------+------+--------------------+------------------+\n",
      "only showing top 20 rows\n",
      "\n"
     ]
    }
   ],
   "source": [
    "prediction.show()"
   ]
  },
  {
   "cell_type": "code",
   "execution_count": 19,
   "metadata": {},
   "outputs": [
    {
     "name": "stdout",
     "output_type": "stream",
     "text": [
      "8.916534849860872\n"
     ]
    }
   ],
   "source": [
    "test_error = RegressionEvaluator().evaluate(prediction)\n",
    "print(test_error)"
   ]
  },
  {
   "cell_type": "markdown",
   "metadata": {
    "tags": []
   },
   "source": [
    "## Model 2"
   ]
  },
  {
   "cell_type": "code",
   "execution_count": 20,
   "metadata": {},
   "outputs": [],
   "source": [
    "#Random forest\n",
    "rf_assembler = VectorAssembler(inputCols = [ \"Dividend_Yield\", \"Market_Cap\", \"EBITDA\", \"Price_Sales\", \"Price_Book\", \"52_Week_Low\"], outputCol = \"features\")"
   ]
  },
  {
   "cell_type": "code",
   "execution_count": 21,
   "metadata": {},
   "outputs": [],
   "source": [
    "# Train a RandomForest model.\n",
    "rf = RandomForestRegressor(featuresCol=\"features\")"
   ]
  },
  {
   "cell_type": "code",
   "execution_count": 22,
   "metadata": {},
   "outputs": [],
   "source": [
    "pipeline = Pipeline(stages=[rf_assembler, rf])"
   ]
  },
  {
   "cell_type": "code",
   "execution_count": 23,
   "metadata": {},
   "outputs": [],
   "source": [
    "paramGrid = (ParamGridBuilder()\n",
    "            .addGrid(rf.maxDepth, [2, 5, 10])\n",
    "            .addGrid(rf.maxBins, [5, 10, 20])\n",
    "            .build())"
   ]
  },
  {
   "cell_type": "code",
   "execution_count": 24,
   "metadata": {},
   "outputs": [],
   "source": [
    "CV = CrossValidator(estimator = pipeline,\n",
    "                    estimatorParamMaps = paramGrid,\n",
    "                    evaluator = RegressionEvaluator(labelCol=\"label\", predictionCol=\"prediction\", metricName=\"rmse\"),\n",
    "                    numFolds = 5)"
   ]
  },
  {
   "cell_type": "code",
   "execution_count": 25,
   "metadata": {},
   "outputs": [],
   "source": [
    "rf_train= rf_assembler.transform(sqlTrans.transform(train)).select(\"Dividend_Yield\", \"Market_Cap\", \"EBITDA\", \"Price_Sales\", \"Price_Book\", \"52_Week_Low\",\"label\")"
   ]
  },
  {
   "cell_type": "code",
   "execution_count": 26,
   "metadata": {
    "tags": []
   },
   "outputs": [
    {
     "name": "stdout",
     "output_type": "stream",
     "text": [
      "+--------------+------------+--------+-----------+----------+-----------+------+\n",
      "|Dividend_Yield|  Market_Cap|  EBITDA|Price_Sales|Price_Book|52_Week_Low| label|\n",
      "+--------------+------------+--------+-----------+----------+-----------+------+\n",
      "|     0.8756979|21.984606918|   1.094|   6.493563|      4.56|       75.0| 65.05|\n",
      "|     0.7782101|24.594852352|   5.761| 0.58022565|      6.03|      59.08|  48.6|\n",
      "|     1.5795412|     809.508|  79.386|  3.4586093|      5.66|      180.1|155.15|\n",
      "|     2.4995599|     181.386|   10.31|   6.291571|     26.14|     125.86|108.48|\n",
      "|     1.6132456|20.587704101|0.991884| 0.17396984|      9.73|     106.27| 91.55|\n",
      "+--------------+------------+--------+-----------+----------+-----------+------+\n",
      "only showing top 5 rows\n",
      "\n"
     ]
    }
   ],
   "source": [
    "rf_train.show(5)\n",
    "model = CV.fit(rf_train)"
   ]
  },
  {
   "cell_type": "code",
   "execution_count": 27,
   "metadata": {
    "tags": []
   },
   "outputs": [],
   "source": [
    "# Make predictions.\n",
    "rf_test= rf_assembler.transform(sqlTrans.transform(test)).select(\"Dividend_Yield\", \"Market_Cap\", \"EBITDA\", \"Price_Sales\", \"Price_Book\", \"52_Week_Low\",\"label\")\n",
    "predictions = model.transform(rf_test)"
   ]
  },
  {
   "cell_type": "code",
   "execution_count": 28,
   "metadata": {},
   "outputs": [
    {
     "name": "stdout",
     "output_type": "stream",
     "text": [
      "Root Mean Squared Error (RMSE) on test data = 15.3208\n",
      "+--------------+------------+--------+-----------+----------+-----------+------+--------------------+------------------+\n",
      "|Dividend_Yield|  Market_Cap|  EBITDA|Price_Sales|Price_Book|52_Week_Low| label|            features|        prediction|\n",
      "+--------------+------------+--------+-----------+----------+-----------+------+--------------------+------------------+\n",
      "|    0.21832074| 8.123611867|0.853941|  1.1301061|      2.51|     169.55|109.63|[0.21832074,8.123...|          163.5665|\n",
      "|     1.9089824|     102.121|   5.744|  3.7404804|      3.19|       64.6| 56.27|[1.9089824,102.12...| 56.72638571428572|\n",
      "|     2.2190912|50.337702249|  2.7674|  4.0483294|     12.86|     125.24|108.25|[2.2190912,50.337...|114.46683333333333|\n",
      "|     0.9240122|13.632608582|  2.1432|  1.7282298|      8.28|     278.33| 240.6|[0.9240122,13.632...|206.67827941176466|\n",
      "|           0.0|24.348294504| -0.3781|   16.50682|    224.13|      131.1|104.81|[0.0,24.348294504...|116.16024047619051|\n",
      "|     2.4299066|   33.422948|     0.0|  1.5429344|      1.53|      91.73| 83.25|[2.4299066,33.422...| 76.57654999999998|\n",
      "|      1.643289|56.668833898| -2.8881|   4.820115|      0.83|      256.8| 164.2|[1.643289,56.6688...|174.42821428571432|\n",
      "|           0.0|10.906904066|0.789517|  5.8546524|      3.25|      69.56| 62.49|[0.0,10.906904066...|           51.7697|\n",
      "|           0.0|18.788041378|0.380326|  13.138819|     16.44|     287.32|220.71|[0.0,18.788041378...|223.16110714285713|\n",
      "|           0.0|11.191663795|   0.339|  2.1091955|     21.47|      15.65| 11.22|[0.0,11.191663795...| 39.38119166666668|\n",
      "|     2.9751508|     128.133|  11.945|    5.58192|      3.91|     201.23|173.12|[2.9751508,128.13...|179.13949999999997|\n",
      "|     2.3454583|15.696449735|   2.548|  0.6618165|       1.7|     121.71|  96.9|[2.3454583,15.696...|           113.026|\n",
      "|     1.0245464|35.123123422|   1.858|  3.4972682|      6.78|     152.78|136.05|[1.0245464,35.123...| 152.7595919117647|\n",
      "|     2.7811136|34.638387128|  2.5425|  4.1163683|      3.35|     175.17| 152.8|[2.7811136,34.638...|151.21354166666669|\n",
      "|     0.8608971|26.955335395|  1.6717|    3.85675|      6.64|      93.62| 84.44|[0.8608971,26.955...| 90.67737350573402|\n",
      "|     3.0262272|12.043374429|     0.0|  10.492155|      2.07|     134.37|114.58|[3.0262272,12.043...|102.09367499999999|\n",
      "|     5.4156513|     226.713|  49.653|  1.4083152|       1.8|       42.7| 35.57|[5.4156513,226.71...| 40.45450000000001|\n",
      "|     2.9488583|92.791974933|   7.016|   6.961893|       4.4|     285.68|229.57|[2.9488583,92.791...|219.51999999999998|\n",
      "|     1.3518385|50.910180308|   1.537|  5.6912947|      3.98|   248.3888|211.44|[1.3518385,50.910...|191.29404166666663|\n",
      "|           0.0|     261.401|     0.0|  1.4328232|      1.58|     217.62|191.42|[0.0,261.401,0.0,...|           209.254|\n",
      "+--------------+------------+--------+-----------+----------+-----------+------+--------------------+------------------+\n",
      "only showing top 20 rows\n",
      "\n"
     ]
    }
   ],
   "source": [
    "# Select (prediction, true label) and compute test error\n",
    "evaluator=RegressionEvaluator(labelCol=\"label\", predictionCol=\"prediction\", metricName=\"rmse\")\n",
    "rmse = RegressionEvaluator().evaluate(predictions)\n",
    "print(\"Root Mean Squared Error (RMSE) on test data = %g\" % rmse)\n",
    "predictions.show()"
   ]
  },
  {
   "cell_type": "markdown",
   "metadata": {
    "tags": []
   },
   "source": [
    "## Model 3"
   ]
  },
  {
   "cell_type": "markdown",
   "metadata": {},
   "source": [
    "#Decision tree\n"
   ]
  },
  {
   "cell_type": "code",
   "execution_count": 29,
   "metadata": {
    "tags": []
   },
   "outputs": [
    {
     "name": "stdout",
     "output_type": "stream",
     "text": [
      "Root Mean Squared Error (RMSE) on test data = 31.5583\n",
      "+--------------+------------+--------+-----------+----------+-----------+------+--------------------+------------------+\n",
      "|Dividend_Yield|  Market_Cap|  EBITDA|Price_Sales|Price_Book|52_Week_Low| label|            features|        prediction|\n",
      "+--------------+------------+--------+-----------+----------+-----------+------+--------------------+------------------+\n",
      "|    0.21832074| 8.123611867|0.853941|  1.1301061|      2.51|     169.55|109.63|[0.21832074,8.123...|158.17650000000003|\n",
      "|     1.9089824|     102.121|   5.744|  3.7404804|      3.19|       64.6| 56.27|[1.9089824,102.12...| 59.58698113207547|\n",
      "|     2.2190912|50.337702249|  2.7674|  4.0483294|     12.86|     125.24|108.25|[2.2190912,50.337...|           116.648|\n",
      "|     0.9240122|13.632608582|  2.1432|  1.7282298|      8.28|     278.33| 240.6|[0.9240122,13.632...|            387.65|\n",
      "|           0.0|24.348294504| -0.3781|   16.50682|    224.13|      131.1|104.81|[0.0,24.348294504...|           116.648|\n",
      "|     2.4299066|   33.422948|     0.0|  1.5429344|      1.53|      91.73| 83.25|[2.4299066,33.422...| 82.29842105263157|\n",
      "|      1.643289|56.668833898| -2.8881|   4.820115|      0.83|      256.8| 164.2|[1.643289,56.6688...|171.07333333333335|\n",
      "|           0.0|10.906904066|0.789517|  5.8546524|      3.25|      69.56| 62.49|[0.0,10.906904066...| 59.58698113207547|\n",
      "|           0.0|18.788041378|0.380326|  13.138819|     16.44|     287.32|220.71|[0.0,18.788041378...| 381.8699999999999|\n",
      "|           0.0|11.191663795|   0.339|  2.1091955|     21.47|      15.65| 11.22|[0.0,11.191663795...|16.378947368421052|\n",
      "|     2.9751508|     128.133|  11.945|    5.58192|      3.91|     201.23|173.12|[2.9751508,128.13...|198.28799999999998|\n",
      "|     2.3454583|15.696449735|   2.548|  0.6618165|       1.7|     121.71|  96.9|[2.3454583,15.696...|           116.648|\n",
      "|     1.0245464|35.123123422|   1.858|  3.4972682|      6.78|     152.78|136.05|[1.0245464,35.123...|            142.89|\n",
      "|     2.7811136|34.638387128|  2.5425|  4.1163683|      3.35|     175.17| 152.8|[2.7811136,34.638...|158.17650000000003|\n",
      "|     0.8608971|26.955335395|  1.6717|    3.85675|      6.64|      93.62| 84.44|[0.8608971,26.955...| 82.29842105263157|\n",
      "|     3.0262272|12.043374429|     0.0|  10.492155|      2.07|     134.37|114.58|[3.0262272,12.043...|106.23499999999996|\n",
      "|     5.4156513|     226.713|  49.653|  1.4083152|       1.8|       42.7| 35.57|[5.4156513,226.71...|           30.9745|\n",
      "|     2.9488583|92.791974933|   7.016|   6.961893|       4.4|     285.68|229.57|[2.9488583,92.791...| 337.5366666666667|\n",
      "|     1.3518385|50.910180308|   1.537|  5.6912947|      3.98|   248.3888|211.44|[1.3518385,50.910...|198.28799999999998|\n",
      "|           0.0|     261.401|     0.0|  1.4328232|      1.58|     217.62|191.42|[0.0,261.401,0.0,...|171.07333333333335|\n",
      "+--------------+------------+--------+-----------+----------+-----------+------+--------------------+------------------+\n",
      "only showing top 20 rows\n",
      "\n"
     ]
    }
   ],
   "source": [
    "#df\n",
    "dt_assembler = VectorAssembler(inputCols = [ \"Dividend_Yield\", \"Market_Cap\", \"EBITDA\", \"Price_Sales\", \"Price_Book\", \"52_Week_Low\"], outputCol = \"features\")\n",
    "# Train a RandomForest model.\n",
    "dt = DecisionTreeRegressor(featuresCol=\"features\")\n",
    "pipeline = Pipeline(stages=[dt_assembler, dt])\n",
    "paramGrid = (ParamGridBuilder()\n",
    "            .addGrid(dt.maxDepth, [2, 5, 10])\n",
    "            .addGrid(dt.maxBins, [5, 10, 20])\n",
    "            .build())\n",
    "CV = CrossValidator(estimator = pipeline,\n",
    "                    estimatorParamMaps = paramGrid,\n",
    "                    evaluator = RegressionEvaluator(labelCol=\"label\", predictionCol=\"prediction\", metricName=\"rmse\"),\n",
    "                    numFolds = 5)\n",
    "dt_train= dt_assembler.transform(sqlTrans.transform(train)).select(\"Dividend_Yield\", \"Market_Cap\", \"EBITDA\", \"Price_Sales\", \"Price_Book\", \"52_Week_Low\",\"label\")\n",
    "model = CV.fit(dt_train)\n",
    "# Make predictions.\n",
    "dt_test= dt_assembler.transform(sqlTrans.transform(test)).select(\"Dividend_Yield\", \"Market_Cap\", \"EBITDA\", \"Price_Sales\", \"Price_Book\", \"52_Week_Low\",\"label\")\n",
    "predictions = model.transform(dt_test)\n",
    "# Select (prediction, true label) and compute test error\n",
    "evaluator=RegressionEvaluator(labelCol=\"label\", predictionCol=\"prediction\", metricName=\"rmse\")\n",
    "rmse = RegressionEvaluator().evaluate(predictions)\n",
    "print(\"Root Mean Squared Error (RMSE) on test data = %g\" % rmse)\n",
    "predictions.show()"
   ]
  }
 ],
 "metadata": {
  "kernelspec": {
   "display_name": "Python 3 (ipykernel)",
   "language": "python",
   "name": "python3"
  },
  "language_info": {
   "codemirror_mode": {
    "name": "ipython",
    "version": 3
   },
   "file_extension": ".py",
   "mimetype": "text/x-python",
   "name": "python",
   "nbconvert_exporter": "python",
   "pygments_lexer": "ipython3",
   "version": "3.10.1"
  }
 },
 "nbformat": 4,
 "nbformat_minor": 4
}
